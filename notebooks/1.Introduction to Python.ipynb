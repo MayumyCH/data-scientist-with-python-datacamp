{
 "cells": [
  {
   "cell_type": "markdown",
   "metadata": {},
   "source": [
    "**Prof: [Hugo Bowne Anderson](https://www.datacamp.com/instructors/hugobowne)**\n",
    "\n",
    "---"
   ]
  },
  {
   "cell_type": "markdown",
   "metadata": {},
   "source": [
    "# Python Basics\n",
    "Python fue concebido por Guido Van Rossum"
   ]
  },
  {
   "cell_type": "markdown",
   "metadata": {},
   "source": [
    "### **Variables and Types**"
   ]
  },
  {
   "cell_type": "code",
   "execution_count": 9,
   "metadata": {},
   "outputs": [
    {
     "name": "stdout",
     "output_type": "stream",
     "text": [
      "<class 'int'>\n",
      ">> <class 'str'>\n"
     ]
    }
   ],
   "source": [
    "# Convertir de numerico a string\n",
    "var_num = 10\n",
    "print(type(var_num))\n",
    "var_num = str(var_num)\n",
    "print(f\">> {type(var_num)}\")"
   ]
  },
  {
   "cell_type": "code",
   "execution_count": 10,
   "metadata": {},
   "outputs": [
    {
     "name": "stdout",
     "output_type": "stream",
     "text": [
      "<class 'str'>\n",
      ">> <class 'float'>\n"
     ]
    }
   ],
   "source": [
    "# Convertir de string a numerico\n",
    "var_num = \"18.2\"\n",
    "print(type(var_num))\n",
    "var_num = float(var_num)\n",
    "print(f\">> {type(var_num)}\")"
   ]
  },
  {
   "cell_type": "markdown",
   "metadata": {},
   "source": [
    "# Python Lists"
   ]
  },
  {
   "cell_type": "markdown",
   "metadata": {},
   "source": [
    "### **Python Lists**"
   ]
  },
  {
   "cell_type": "code",
   "execution_count": 11,
   "metadata": {},
   "outputs": [
    {
     "name": "stdout",
     "output_type": "stream",
     "text": [
      "['a', 12, True]\n",
      "<class 'list'>\n"
     ]
    }
   ],
   "source": [
    "list_example = [ \"a\", 12, True]\n",
    "print(list_example)\n",
    "print(type(list_example))"
   ]
  },
  {
   "cell_type": "code",
   "execution_count": 12,
   "metadata": {},
   "outputs": [
    {
     "name": "stdout",
     "output_type": "stream",
     "text": [
      "[['hallway', 100], ['kitchen', 85]]\n",
      "<class 'list'>\n"
     ]
    }
   ],
   "source": [
    "# Lista de Listas\n",
    "list_house = [[\"hallway\", 100],\n",
    "         [\"kitchen\", 85]]\n",
    "print(list_house)\n",
    "print(type(list_house))"
   ]
  },
  {
   "cell_type": "markdown",
   "metadata": {},
   "source": [
    "### **Subsetting Lists**"
   ]
  },
  {
   "cell_type": "code",
   "execution_count": 13,
   "metadata": {},
   "outputs": [
    {
     "name": "stdout",
     "output_type": "stream",
     "text": [
      "['heydy', 22, 'ines', 54, 'henry', 33, 'oscar', 38]\n"
     ]
    }
   ],
   "source": [
    "list_fam = [\"heydy\", 22, \"ines\", 54, \"henry\", 33,\"oscar\", 38]\n",
    "print(list_fam)"
   ]
  },
  {
   "cell_type": "code",
   "execution_count": 17,
   "metadata": {},
   "outputs": [
    {
     "name": "stdout",
     "output_type": "stream",
     "text": [
      "ines\n",
      "ines\n"
     ]
    }
   ],
   "source": [
    "# Indexacion\n",
    "print(list_fam[2])\n",
    "\n",
    "# Indice Negativo\n",
    "print(list_fam[-6])"
   ]
  },
  {
   "cell_type": "code",
   "execution_count": 23,
   "metadata": {},
   "outputs": [
    {
     "name": "stdout",
     "output_type": "stream",
     "text": [
      "[54, 'henry']\n",
      "['heydy', 22, 'ines', 54, 'henry']\n",
      "[33, 'oscar', 38]\n"
     ]
    }
   ],
   "source": [
    "# Rebanado [ start : end ]\n",
    "#         Inclusive : exclusive\n",
    "\n",
    "print(list_fam[3:5]) #no toma el ultimo digito \n",
    "print(list_fam[:5]) #Desde el inicio hasta la posicion 4\n",
    "print(list_fam[5:]) #Desde la posicion 5 hasta el final"
   ]
  },
  {
   "cell_type": "markdown",
   "metadata": {},
   "source": [
    "### **Manipulating Lists**"
   ]
  },
  {
   "cell_type": "code",
   "execution_count": 24,
   "metadata": {},
   "outputs": [
    {
     "name": "stdout",
     "output_type": "stream",
     "text": [
      "['heydy', 22, 'ines', 54, 'henry', 33, 'oscar', 38]\n"
     ]
    }
   ],
   "source": [
    "print(list_fam)"
   ]
  },
  {
   "cell_type": "code",
   "execution_count": 27,
   "metadata": {},
   "outputs": [
    {
     "name": "stdout",
     "output_type": "stream",
     "text": [
      "['heydy', 22, 'ines', 54, 'henry', 33, 'oscar', 37]\n",
      "['Mayumy', 24, 'ines', 54, 'henry', 33, 'oscar', 37]\n"
     ]
    }
   ],
   "source": [
    "list_fam[-1]=37\n",
    "print(list_fam)\n",
    "\n",
    "list_fam[:2]= [\"Mayumy\", 24]\n",
    "print(list_fam)"
   ]
  },
  {
   "cell_type": "code",
   "execution_count": 28,
   "metadata": {},
   "outputs": [
    {
     "name": "stdout",
     "output_type": "stream",
     "text": [
      "['Mayumy', 24, 'ines', 54, 'henry', 33, 'oscar', 37, 'Achuchena', 12]\n",
      "['Mayumy', 24, 'ines', 'henry', 33, 'oscar', 37, 'Achuchena', 12]\n"
     ]
    }
   ],
   "source": [
    "# Adding and removing elements\n",
    "\n",
    "# Add\n",
    "fam_Ext = list_fam + [\"Achuchena\", 12]\n",
    "print(fam_Ext)\n",
    "\n",
    "# Delete\n",
    "del(fam_Ext[3])\n",
    "print(fam_Ext)"
   ]
  },
  {
   "cell_type": "code",
   "execution_count": 29,
   "metadata": {},
   "outputs": [
    {
     "name": "stdout",
     "output_type": "stream",
     "text": [
      "['a', 'heydy', 'c']\n",
      "['a', 'heydy', 'c']\n"
     ]
    }
   ],
   "source": [
    "# Interesting !!\n",
    "x = [\"a\", \"b\", \"c\"]\n",
    "y = x # Con = copias la referencia a la lista mas no los valores\n",
    "y[1]=\"heydy\"\n",
    "print(x)\n",
    "print(y)"
   ]
  },
  {
   "cell_type": "code",
   "execution_count": 31,
   "metadata": {},
   "outputs": [
    {
     "name": "stdout",
     "output_type": "stream",
     "text": [
      "['a', 'b', 'c']\n",
      "['a', 'heydy', 'c']\n"
     ]
    }
   ],
   "source": [
    "# Creando una nueva lista Correctamente (*)\n",
    "x = [\"a\", \"b\", \"c\"]\n",
    "# y = list(x)\n",
    "y = x[:]\n",
    "\n",
    "y[1]=\"heydy\"\n",
    "print(x)\n",
    "print(y)"
   ]
  },
  {
   "cell_type": "code",
   "execution_count": 40,
   "metadata": {},
   "outputs": [
    {
     "name": "stdout",
     "output_type": "stream",
     "text": [
      "['hallway', 11.25, 'kitchen', 18.0, 'chill zone', 20.0, 'bedroom', 10.75, 'bathroom', 10.5, 'poolhouse', 24.5, 'garage', 15.45]\n",
      "['hallway', 11.25, 'kitchen', 18.0, 'chill zone', 20.0, 'bedroom', 10.75, 'bathroom', 10.5, 'garage', 15.45]\n"
     ]
    }
   ],
   "source": [
    "# Example - Eliminar \"poolhouse\" y 24.5\n",
    "areas = [\"hallway\", 11.25, \"kitchen\", 18.0,\n",
    "        \"chill zone\", 20.0, \"bedroom\", 10.75,\n",
    "         \"bathroom\", 10.50, \"poolhouse\", 24.5,\n",
    "         \"garage\", 15.45]\n",
    "print(areas)\n",
    "# print(areas[-4:-2])\n",
    "del(areas[-4:-2])\n",
    "print(areas)"
   ]
  },
  {
   "cell_type": "markdown",
   "metadata": {},
   "source": [
    "# Functions and Packages"
   ]
  },
  {
   "cell_type": "markdown",
   "metadata": {},
   "source": [
    "### **Funcion**\n",
    "\n",
    "Es una pieza de codigo reutilizable, destinada a resolver una tarea en particular"
   ]
  },
  {
   "cell_type": "code",
   "execution_count": 10,
   "metadata": {},
   "outputs": [
    {
     "name": "stdout",
     "output_type": "stream",
     "text": [
      "[22, 54, 33, 38, 36]\n",
      "el tamaño de la lista 5\n",
      "valor maximo de la lista 54\n"
     ]
    }
   ],
   "source": [
    "list_fam = [ 22, 54, 33, 38, 36]\n",
    "print(list_fam)\n",
    "print(f\"el tamaño de la lista {len(list_fam)}\")\n",
    "print(f\"valor maximo de la lista {max(list_fam)}\")"
   ]
  },
  {
   "cell_type": "code",
   "execution_count": 1,
   "metadata": {},
   "outputs": [
    {
     "data": {
      "text/plain": [
       "1.69"
      ]
     },
     "execution_count": 1,
     "metadata": {},
     "output_type": "execute_result"
    }
   ],
   "source": [
    "round(1.689,2)"
   ]
  },
  {
   "cell_type": "code",
   "execution_count": 5,
   "metadata": {},
   "outputs": [
    {
     "name": "stdout",
     "output_type": "stream",
     "text": [
      "Help on built-in function round in module builtins:\n",
      "\n",
      "round(number, ndigits=None)\n",
      "    Round a number to a given precision in decimal digits.\n",
      "    \n",
      "    The return value is an integer if ndigits is omitted or None.  Otherwise\n",
      "    the return value has the same type as the number.  ndigits may be negative.\n",
      "\n"
     ]
    }
   ],
   "source": [
    "help(round)"
   ]
  },
  {
   "cell_type": "code",
   "execution_count": 4,
   "metadata": {},
   "outputs": [
    {
     "name": "stdout",
     "output_type": "stream",
     "text": [
      "[18.0, 20.0, 51.25]\n",
      "[18.0, 20.0, 51.25]\n",
      "[51.25, 20.0, 18.0]\n"
     ]
    }
   ],
   "source": [
    "first = [51.25, 18.0, 20.0]\n",
    "full_sorted = sorted(first) # Ascendente\n",
    "full_sorted_asc = sorted(first,reverse=False) # Ascendente\n",
    "full_sorted_desc = sorted(first,reverse=True) # Descendiente\n",
    "print(full_sorted)\n",
    "print(full_sorted_asc)\n",
    "print(full_sorted_desc)"
   ]
  },
  {
   "cell_type": "markdown",
   "metadata": {},
   "source": [
    "### **Methods**\n",
    "\n",
    "En python todo es objecto. Y cada objecto tiene metodos especificos asociados\n",
    "- Objetos con diferentes tipos pueden tener metodos con el mismo nombre"
   ]
  },
  {
   "cell_type": "code",
   "execution_count": 5,
   "metadata": {},
   "outputs": [
    {
     "name": "stdout",
     "output_type": "stream",
     "text": [
      "Indice: 4\n",
      "Contar: 2\n"
     ]
    }
   ],
   "source": [
    "list_fam = [ \"heydy\", 22, \"ines\", 54, \"henry\", 33,\"oscar\", 54]\n",
    "\n",
    "print(\"Indice:\", list_fam.index(\"henry\")) # OBTENER el INDICE de la lista\n",
    "print(f\"Contar: {list_fam.count(54)}\") # CONTAR cuantas veces aparece algo"
   ]
  },
  {
   "cell_type": "code",
   "execution_count": 9,
   "metadata": {},
   "outputs": [
    {
     "name": "stdout",
     "output_type": "stream",
     "text": [
      "Mayumy\n",
      "ma*um*\n"
     ]
    }
   ],
   "source": [
    "name= \"mayumy\"\n",
    "print(name.capitalize())\n",
    "print(name.replace(\"y\",\"*\"))"
   ]
  },
  {
   "cell_type": "code",
   "execution_count": 24,
   "metadata": {},
   "outputs": [
    {
     "data": {
      "text/plain": [
       "'MAYUMY'"
      ]
     },
     "execution_count": 24,
     "metadata": {},
     "output_type": "execute_result"
    }
   ],
   "source": [
    "name.upper()"
   ]
  },
  {
   "cell_type": "code",
   "execution_count": 21,
   "metadata": {},
   "outputs": [
    {
     "data": {
      "text/plain": [
       "2"
      ]
     },
     "execution_count": 21,
     "metadata": {},
     "output_type": "execute_result"
    }
   ],
   "source": [
    "name.index(\"y\")"
   ]
  },
  {
   "cell_type": "code",
   "execution_count": 10,
   "metadata": {},
   "outputs": [
    {
     "name": "stdout",
     "output_type": "stream",
     "text": [
      "['heydy', 22, 'ines', 54, 'henry', 33, 'oscar', 54]\n",
      "['heydy', 22, 'ines', 54, 'henry', 33, 'oscar', 54, 'Achuchena']\n"
     ]
    }
   ],
   "source": [
    "print(list_fam)\n",
    "list_fam.append(\"Achuchena\")\n",
    "print(list_fam)"
   ]
  },
  {
   "cell_type": "code",
   "execution_count": 11,
   "metadata": {},
   "outputs": [
    {
     "name": "stdout",
     "output_type": "stream",
     "text": [
      "['heydy', 22, 'ines', 54, 'henry', 33, 'oscar', 54, 'Achuchena']\n",
      "['heydy', 22, 'ines', 54, 'henry', 33, 'oscar', 54]\n"
     ]
    }
   ],
   "source": [
    "print(list_fam)\n",
    "list_fam.remove(\"Achuchena\")\n",
    "print(list_fam)"
   ]
  },
  {
   "cell_type": "code",
   "execution_count": 12,
   "metadata": {},
   "outputs": [
    {
     "name": "stdout",
     "output_type": "stream",
     "text": [
      "[54, 'oscar', 33, 'henry', 54, 'ines', 22, 'heydy']\n"
     ]
    }
   ],
   "source": [
    "list_fam.reverse()\n",
    "print(list_fam)"
   ]
  },
  {
   "cell_type": "markdown",
   "metadata": {},
   "source": [
    "**Packages**\n",
    "\n",
    "- Un directorio de scripts de python\n",
    "- Cada script es llamado \"modulo\"\n",
    "- Estos modulos especifican funciones, metodos y nuevos tipos de python destinados a resolver problemas particulares\n",
    "\n",
    "_**Paquetes para ciencia de datos:**_\n",
    "\n",
    "- **_Numpy_** (para trabajar eficientemente con matrices)\n",
    "- **_Matplotlib_** (para visualizacion de datos)\n",
    "- **_Scikit-learn_** (para aprendizaje automatico)\n",
    "\n",
    "> Pip - Gestor de paquetes de python"
   ]
  },
  {
   "cell_type": "markdown",
   "metadata": {},
   "source": [
    "<img src=\"https://i.ibb.co/FBqZrfP/Selecci-n-048.png\" alt=\"Selecci-n-048\" border=\"0\">"
   ]
  },
  {
   "cell_type": "code",
   "execution_count": 27,
   "metadata": {},
   "outputs": [],
   "source": [
    "# Importancion de todo el paquete y renombrandolo\n",
    "import numpy as np"
   ]
  },
  {
   "cell_type": "code",
   "execution_count": 28,
   "metadata": {},
   "outputs": [
    {
     "data": {
      "text/plain": [
       "array([1, 2, 3])"
      ]
     },
     "execution_count": 28,
     "metadata": {},
     "output_type": "execute_result"
    }
   ],
   "source": [
    "np.array([1,2,3])"
   ]
  },
  {
   "cell_type": "code",
   "execution_count": 30,
   "metadata": {},
   "outputs": [
    {
     "data": {
      "text/plain": [
       "array([1, 2, 3])"
      ]
     },
     "execution_count": 30,
     "metadata": {},
     "output_type": "execute_result"
    }
   ],
   "source": [
    "#Importar funcion especifica de un paquete\n",
    "from numpy import array\n",
    "array([1,2,3])"
   ]
  },
  {
   "cell_type": "code",
   "execution_count": 42,
   "metadata": {},
   "outputs": [
    {
     "name": "stdout",
     "output_type": "stream",
     "text": [
      "40317.10572106901\n"
     ]
    }
   ],
   "source": [
    "r = 192500\n",
    "\n",
    "# from math import pi\n",
    "from math import radians\n",
    "dist = r*radians(12)\n",
    "print(dist)"
   ]
  },
  {
   "cell_type": "code",
   "execution_count": 44,
   "metadata": {},
   "outputs": [
    {
     "data": {
      "text/plain": [
       "array([[-2. ,  1. ],\n",
       "       [ 1.5, -0.5]])"
      ]
     },
     "execution_count": 44,
     "metadata": {},
     "output_type": "execute_result"
    }
   ],
   "source": [
    "# Suponga que quiere usar la función inv (), \n",
    "# que está en el subpaquete linalg del paquete scipy.\n",
    "from scipy.linalg import inv as my_inv\n",
    "my_inv([[1,2], [3,4]])"
   ]
  },
  {
   "cell_type": "markdown",
   "metadata": {},
   "source": [
    "# NumPy\n",
    "\n",
    "- Numeric Python\n",
    "- Es un paquete de python que ofrece una alternativa a la lista normal\n",
    "- Se puede realizar calculos sobre matrices enteras\n",
    "- Al ser todos sus elementos de un mismo tipo acelera sus calculos\n",
    "\n",
    "**_Instalacion_**\n",
    "```\n",
    "pip3 install numpy\n",
    "```\n",
    "\n",
    "**_Importacion_**\n",
    "```\n",
    "import numpy as np\n",
    "```\n",
    "\n",
    "---\n",
    "\n",
    "Numpy asume que solo contiene valores de un solo tipo. Por ejm: Matriz de booleanos, matriz de float, etc"
   ]
  },
  {
   "cell_type": "markdown",
   "metadata": {},
   "source": [
    "**Numpy Arrays list**\n",
    "\n",
    "Matrices unidimensionales"
   ]
  },
  {
   "cell_type": "code",
   "execution_count": 14,
   "metadata": {},
   "outputs": [],
   "source": [
    "import numpy as np"
   ]
  },
  {
   "cell_type": "code",
   "execution_count": 47,
   "metadata": {},
   "outputs": [
    {
     "name": "stdout",
     "output_type": "stream",
     "text": [
      "[1.73 1.68 1.71 1.89 1.79]\n",
      "[65.4 59.2 63.6 88.4 68.7]\n"
     ]
    }
   ],
   "source": [
    "height = [1.73, 1.68, 1.71, 1.89, 1.79] # lista\n",
    "np_height = np.array(height) # Convirtiendo la lista en una matriz\n",
    "\n",
    "weight = [65.4, 59.2, 63.6, 88.4, 68.7]\n",
    "np_weight = np.array(weight)\n",
    "\n",
    "print(np_height)\n",
    "print(np_weight)"
   ]
  },
  {
   "cell_type": "code",
   "execution_count": 53,
   "metadata": {},
   "outputs": [
    {
     "name": "stdout",
     "output_type": "stream",
     "text": [
      "<class 'numpy.ndarray'>\n"
     ]
    }
   ],
   "source": [
    "print(type(np_weight))"
   ]
  },
  {
   "cell_type": "code",
   "execution_count": 48,
   "metadata": {},
   "outputs": [
    {
     "name": "stdout",
     "output_type": "stream",
     "text": [
      "[21.85171573 20.97505669 21.75028214 24.7473475  21.44127836]\n"
     ]
    }
   ],
   "source": [
    "bmi = np_weight / np_height**2\n",
    "print(bmi)"
   ]
  },
  {
   "cell_type": "code",
   "execution_count": 50,
   "metadata": {},
   "outputs": [
    {
     "data": {
      "text/plain": [
       "20.97505668934241"
      ]
     },
     "execution_count": 50,
     "metadata": {},
     "output_type": "execute_result"
    }
   ],
   "source": [
    "bmi[1]"
   ]
  },
  {
   "cell_type": "code",
   "execution_count": 51,
   "metadata": {},
   "outputs": [
    {
     "data": {
      "text/plain": [
       "array([False, False, False,  True, False])"
      ]
     },
     "execution_count": 51,
     "metadata": {},
     "output_type": "execute_result"
    }
   ],
   "source": [
    "bmi > 23"
   ]
  },
  {
   "cell_type": "code",
   "execution_count": 52,
   "metadata": {},
   "outputs": [
    {
     "data": {
      "text/plain": [
       "array([24.7473475])"
      ]
     },
     "execution_count": 52,
     "metadata": {},
     "output_type": "execute_result"
    }
   ],
   "source": [
    "# Hacer subconjuntos\n",
    "bmi[bmi > 23]"
   ]
  },
  {
   "cell_type": "markdown",
   "metadata": {},
   "source": [
    "**2D Numpy Arrays**\n",
    "\n",
    "Matrices bidimensionales"
   ]
  },
  {
   "cell_type": "code",
   "execution_count": 54,
   "metadata": {},
   "outputs": [
    {
     "name": "stdout",
     "output_type": "stream",
     "text": [
      "[[ 1.73  1.68  1.71  1.89  1.79]\n",
      " [65.4  59.2  63.6  88.4  68.7 ]]\n"
     ]
    }
   ],
   "source": [
    "np_2d = np.array([[1.73, 1.68, 1.71, 1.89, 1.79],\n",
    "                 [65.4, 59.2, 63.6, 88.4, 68.7]])\n",
    "print(np_2d)"
   ]
  },
  {
   "cell_type": "code",
   "execution_count": 56,
   "metadata": {},
   "outputs": [
    {
     "data": {
      "text/plain": [
       "(2, 5)"
      ]
     },
     "execution_count": 56,
     "metadata": {},
     "output_type": "execute_result"
    }
   ],
   "source": [
    "np_2d.shape # 2fila y 5columnas"
   ]
  },
  {
   "cell_type": "code",
   "execution_count": 57,
   "metadata": {},
   "outputs": [
    {
     "data": {
      "text/plain": [
       "array([1.73, 1.68, 1.71, 1.89, 1.79])"
      ]
     },
     "execution_count": 57,
     "metadata": {},
     "output_type": "execute_result"
    }
   ],
   "source": [
    "np_2d[0]"
   ]
  },
  {
   "cell_type": "code",
   "execution_count": 58,
   "metadata": {},
   "outputs": [
    {
     "name": "stdout",
     "output_type": "stream",
     "text": [
      "1.71\n",
      "1.71\n"
     ]
    }
   ],
   "source": [
    "print(np_2d[0][2])\n",
    "print(np_2d[0,2])"
   ]
  },
  {
   "cell_type": "code",
   "execution_count": 60,
   "metadata": {},
   "outputs": [
    {
     "name": "stdout",
     "output_type": "stream",
     "text": [
      "[[ 1.68  1.71]\n",
      " [59.2  63.6 ]]\n"
     ]
    }
   ],
   "source": [
    "print(np_2d[:,1:3])"
   ]
  },
  {
   "cell_type": "markdown",
   "metadata": {},
   "source": [
    "**Numpy: Basic Statistics**\n",
    "\n",
    "Generar estadisticas resumidas sobre sus datos"
   ]
  },
  {
   "cell_type": "code",
   "execution_count": 18,
   "metadata": {},
   "outputs": [
    {
     "name": "stdout",
     "output_type": "stream",
     "text": [
      "[[ 1.81 49.21]\n",
      " [ 1.91 55.59]\n",
      " [ 1.88 55.91]\n",
      " ...\n",
      " [ 1.74 37.59]\n",
      " [ 1.67 86.67]\n",
      " [ 1.93 40.64]]\n",
      "1.7489620000000003\n"
     ]
    }
   ],
   "source": [
    "# Creando MUESTRAS ALEATORIAS con DISTRIBUCION NORMAL\n",
    "# np.random.normal(loc:Media, scale:Standard desviation ,size:# muestras)\n",
    "\n",
    "height = np.round(np.random.normal(1.75, 0.20, 5000),2) # ALTURA\n",
    "Weight = np.round(np.random.normal(60.32, 15, 5000),2) # PESO\n",
    "\n",
    "np_city = np.column_stack((height,Weight)) # stack -- pegar como 2 columnas\n",
    "\n",
    "print(np_city)\n",
    "print(np.mean(np_city[:,0])) # Promedio - Average"
   ]
  },
  {
   "cell_type": "code",
   "execution_count": 72,
   "metadata": {},
   "outputs": [
    {
     "data": {
      "text/plain": [
       "1.75"
      ]
     },
     "execution_count": 72,
     "metadata": {},
     "output_type": "execute_result"
    }
   ],
   "source": [
    "np.median(np_city[:,0]) # Mediana"
   ]
  },
  {
   "cell_type": "code",
   "execution_count": 73,
   "metadata": {},
   "outputs": [
    {
     "data": {
      "text/plain": [
       "array([[ 1.        , -0.00436472],\n",
       "       [-0.00436472,  1.        ]])"
      ]
     },
     "execution_count": 73,
     "metadata": {},
     "output_type": "execute_result"
    }
   ],
   "source": [
    "# Hallar la correlacion \n",
    "# Para visualizar si 2 variables tiene alguna relacion lineal\n",
    "np.corrcoef(np_city[:,0], np_city[:,1]) "
   ]
  },
  {
   "cell_type": "code",
   "execution_count": 74,
   "metadata": {},
   "outputs": [
    {
     "data": {
      "text/plain": [
       "0.19983133283847154"
      ]
     },
     "execution_count": 74,
     "metadata": {},
     "output_type": "execute_result"
    }
   ],
   "source": [
    "# Desviacion estandar\n",
    "# Mide la distancia entre cada dato respecto a su promedio\n",
    "# Mayor desviacion estandar -> mayor dispersion\n",
    "np.std(np_city[:,0])"
   ]
  }
 ],
 "metadata": {
  "kernelspec": {
   "display_name": "Python 3",
   "language": "python",
   "name": "python3"
  },
  "language_info": {
   "codemirror_mode": {
    "name": "ipython",
    "version": 3
   },
   "file_extension": ".py",
   "mimetype": "text/x-python",
   "name": "python",
   "nbconvert_exporter": "python",
   "pygments_lexer": "ipython3",
   "version": "3.7.3"
  }
 },
 "nbformat": 4,
 "nbformat_minor": 2
}
