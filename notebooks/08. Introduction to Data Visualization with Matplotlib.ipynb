{
 "cells": [
  {
   "cell_type": "markdown",
   "metadata": {},
   "source": [
    "# Introduction to Data Visualization with Matplotlib\n",
    "\n",
    "La visualización de datos en gráficos y figuras expone los patrones subyacentes en los datos y proporciona información. Las buenas visualizaciones también lo ayudan a comunicar sus datos a otros y son útiles para los analistas de datos y otros consumidores de los datos.\n",
    "\n",
    "En este curso, aprenderá a usar Matplotlib, una poderosa biblioteca de visualización de datos de Python. Matplotlib proporciona los componentes básicos para crear visualizaciones ricas de muchos tipos diferentes de conjuntos de datos. Aprenderá a crear visualizaciones para diferentes tipos de datos y a personalizar, automatizar y compartir estas visualizaciones. \n",
    "\n",
    "---"
   ]
  },
  {
   "cell_type": "code",
   "execution_count": 26,
   "metadata": {},
   "outputs": [],
   "source": [
    "# https://matplotlib.org/stable/api/markers_api.html"
   ]
  },
  {
   "cell_type": "code",
   "execution_count": 1,
   "metadata": {},
   "outputs": [],
   "source": [
    "import matplotlib.pyplot as plt\n",
    "import pandas as pd\n",
    "import numpy as np"
   ]
  },
  {
   "cell_type": "code",
   "execution_count": 25,
   "metadata": {},
   "outputs": [],
   "source": [
    "# IMPORTAR DATA\n",
    "seattle_weather = pd.read_csv(\"../datasets/seattle_weather.csv\")\n",
    "austin_weather = pd.read_csv(\"../datasets/seattle_weather.csv\")\n",
    "# seattle_weather.head()"
   ]
  },
  {
   "cell_type": "markdown",
   "metadata": {},
   "source": [
    "## 1. Introduction to Matplotlib"
   ]
  },
  {
   "cell_type": "markdown",
   "metadata": {},
   "source": [
    "### Introduction to data visualization with Matplotlib"
   ]
  },
  {
   "cell_type": "code",
   "execution_count": 3,
   "metadata": {},
   "outputs": [],
   "source": [
    "import matplotlib.pyplot as plt"
   ]
  },
  {
   "cell_type": "code",
   "execution_count": 4,
   "metadata": {},
   "outputs": [
    {
     "data": {
      "image/png": "[encoded data removed]",
      "text/plain": [
       "<Figure size 432x288 with 1 Axes>"
      ]
     },
     "metadata": {
      "needs_background": "light"
     },
     "output_type": "display_data"
    }
   ],
   "source": [
    "fig, ax = plt.subplots()\n",
    "plt.show()"
   ]
  },
  {
   "cell_type": "markdown",
   "metadata": {},
   "source": [
    "### Customizing your plots"
   ]
  },
  {
   "cell_type": "code",
   "execution_count": 24,
   "metadata": {},
   "outputs": [],
   "source": [
    "# fig, ax = plt.subplots()\n",
    "\n",
    "# ax.plot(seattle_weather[\"MONTH\"], seattle_weather[\"MLY-TAVG-NORMAL\"],\n",
    "#    marker=\"o\", linestyle=\"None\", color=\"r\")\n",
    "# ax.plot(austin_weather[\"MONTH\"], austin_weather[\"MLY-TAVG-NORMAL\"],\n",
    "#    marker=\"v\", linestyle=\"--\")\n",
    "\n",
    "# ax.set_xlabel(\"Times (Months)\")\n",
    "# ax.set_ylabel(\"Average temp (F degress)\")\n",
    "# ax.set_title(\"Weather in Seattle\")\n",
    "\n",
    "# plt.show()"
   ]
  },
  {
   "cell_type": "markdown",
   "metadata": {},
   "source": [
    "### Small multiples"
   ]
  },
  {
   "cell_type": "code",
   "execution_count": 28,
   "metadata": {},
   "outputs": [
    {
     "data": {
      "image/png": "[encoded data removed]",
      "text/plain": [
       "<Figure size 432x288 with 6 Axes>"
      ]
     },
     "metadata": {
      "needs_background": "light"
     },
     "output_type": "display_data"
    }
   ],
   "source": [
    "fig, ax = plt.subplots(3,2)\n",
    "plt.show()"
   ]
  },
  {
   "cell_type": "code",
   "execution_count": null,
   "metadata": {},
   "outputs": [],
   "source": [
    "# fig, ax = plt.subplots(2, 2,sharey=True) # Igual intervalos en las variables\n",
    "# ax[0, 0].plot(seattle_weather['MONTH'], seattle_weather['MLY-PRCP-NORMAL'])\n",
    "# ax[1, 0].plot(austin_weather['MONTH'], austin_weather['MLY-PRCP-NORMAL'])\n",
    "# plt.show()"
   ]
  },
  {
   "cell_type": "code",
   "execution_count": null,
   "metadata": {},
   "outputs": [],
   "source": []
  },
  {
   "cell_type": "markdown",
   "metadata": {},
   "source": [
    "## 2. Plotting time-series"
   ]
  },
  {
   "cell_type": "markdown",
   "metadata": {},
   "source": [
    "### Plotting time-series data"
   ]
  },
  {
   "cell_type": "code",
   "execution_count": null,
   "metadata": {},
   "outputs": [],
   "source": [
    "# climate_change = pd.read_csv(\"climate_change.csv\", parse_dates=[\"date\"], \n",
    "#                              index_col=\"date\")\n",
    "\n",
    "# sixties = climate_change[\"1960-01-01\":\"1969-12-31\"] # NUEVO\n",
    "\n",
    "# fig, ax = plt.subplots()\n",
    "\n",
    "# ax.plot(seattle_weather.index, seattle_weather[\"MLY-TAVG-NORMAL\"]) # antiguo\n",
    "# ax.plot(sixties.index, sixties['co2']) # NUEVO\n",
    "\n",
    "# ax.set_xlabel(\"Times (Months)\")\n",
    "# ax.set_ylabel(\"Average temp (F degress)\")\n",
    "# ax.set_title(\"Weather in Seattle\")\n",
    "\n",
    "# plt.show()"
   ]
  },
  {
   "cell_type": "code",
   "execution_count": null,
   "metadata": {},
   "outputs": [],
   "source": []
  },
  {
   "cell_type": "markdown",
   "metadata": {},
   "source": [
    "### Plotting time-series with different variables"
   ]
  },
  {
   "cell_type": "code",
   "execution_count": null,
   "metadata": {},
   "outputs": [],
   "source": [
    "def plot_timeseries(axes, x, y, color, xlabel, ylabel):  \n",
    "    axes.plot(x, y, color=color)  \n",
    "    axes.set_xlabel(xlabel)  \n",
    "    axes.set_ylabel(ylabel, color=color)  \n",
    "    axes.tick_params('y', colors=color)"
   ]
  },
  {
   "cell_type": "code",
   "execution_count": 2,
   "metadata": {},
   "outputs": [],
   "source": [
    "# PARA AGREGAR DIFERENTES ESCALAS\n",
    "\n",
    "# fig, ax = plt.subplots()\n",
    "\n",
    "# plot_timeseries(ax, climate_change.index, \n",
    "#                 climate_change['co2'],'blue', 'Time', \n",
    "#                 'CO2 (ppm)')\n",
    "# ax2 = ax.twinx()\n",
    "# plot_timeseries(ax, climate_change.index,\n",
    "#                 climate_change['relative_temp'],'red', 'Time',\n",
    "#                 'Relative temperature (Celsius)')\n",
    "# plt.show()"
   ]
  },
  {
   "cell_type": "markdown",
   "metadata": {},
   "source": [
    "### Annotating time-series data"
   ]
  },
  {
   "cell_type": "code",
   "execution_count": null,
   "metadata": {},
   "outputs": [],
   "source": [
    "# PARA AGREGAR UN PUNTO EN ESPECIFICO\n",
    "# https://matplotlib.org/2.0.2/users/annotations.html"
   ]
  },
  {
   "cell_type": "code",
   "execution_count": null,
   "metadata": {},
   "outputs": [],
   "source": [
    "# ax2.annotate(\">1 degree\", xy=(pd.Timestamp('2015-10-06'), 1),\n",
    "#              xytext=(pd.Timestamp('2008-10-06'), -0.2),\n",
    "#              arrowprops={\"arrowstyle\":\"->\", \"color\":\"gray\"})"
   ]
  },
  {
   "cell_type": "code",
   "execution_count": null,
   "metadata": {},
   "outputs": [],
   "source": []
  },
  {
   "cell_type": "markdown",
   "metadata": {},
   "source": [
    "## 3. Quantitative comparisons and statistical visualizations"
   ]
  },
  {
   "cell_type": "markdown",
   "metadata": {},
   "source": [
    "### Quantitative comparisons: bar-charts"
   ]
  },
  {
   "cell_type": "code",
   "execution_count": null,
   "metadata": {},
   "outputs": [],
   "source": [
    "medals = pd.read_csv('medals_by_country_2016.csv', index_col=0)\n",
    "fig, ax = plt.subplots()\n",
    "\n",
    "ax.bar(medals.index, medals[\"Gold\"])\n",
    "ax.bar(medals.index, medals[\"Silver\"], bottom=medals[\"Gold\"])\n",
    "ax.bar(medals.index, medals[\"Bronze\"], bottom=medals[\"Gold\"] + medals[\"Silver\"])\n",
    "\n",
    "ax.set_xticklabels(medals.index, rotation=90)\n",
    "ax.set_ylabel(\"Number of medals\")\n",
    "ax.legend()\n",
    "\n",
    "plt.show()"
   ]
  },
  {
   "cell_type": "markdown",
   "metadata": {},
   "source": [
    "### Quantitative comparisons: histograms"
   ]
  },
  {
   "cell_type": "code",
   "execution_count": null,
   "metadata": {},
   "outputs": [],
   "source": [
    "# ax.hist(mens_rowing[\"Height\"], label=\"Rowing\",bins=[150, 160, 170, 180, 190, 200, 210]\n",
    "\n",
    "ax.hist(mens_rowing[\"Height\"], label=\"Rowing\", bins=5)\n",
    "ax.hist(mens_gymnastic[\"Height\"], label=\"Gymnastics\", bins=5)\n",
    "\n",
    "ax.set_xlabel(\"Height (cm)\")\n",
    "ax.set_ylabel(\"# of observations\")\n",
    "\n",
    "ax.legend()\n",
    "plt.show()"
   ]
  },
  {
   "cell_type": "code",
   "execution_count": null,
   "metadata": {},
   "outputs": [],
   "source": [
    "# SOLO LINEAS DEL HISTOGRAMA\n",
    "\n",
    "ax.hist(mens_rowing[\"Height\"], label=\"Rowing\",bins=[150, 160, 170, 180, 190, 200, 210],\n",
    "        histtype=\"step\")  # SOLO LINEAS\n",
    "ax.hist(mens_gymnastic[\"Height\"], label=\"Gymnastics\",bins=[150, 160, 170, 180, 190, 200, 210],\n",
    "        histtype=\"step\") # SOLO LINEAS\n",
    "\n",
    "ax.set_xlabel(\"Height (cm)\")\n",
    "ax.set_ylabel(\"# of observations\")\n",
    "ax.legend()\n",
    "\n",
    "plt.show()"
   ]
  },
  {
   "cell_type": "markdown",
   "metadata": {},
   "source": [
    "### Statistical plotting"
   ]
  },
  {
   "cell_type": "code",
   "execution_count": null,
   "metadata": {},
   "outputs": [],
   "source": [
    "# Adding error bars to bar charts\n",
    "fig, ax = plt.subplots()\n",
    "\n",
    "ax.bar(\"Rowing\", mens_rowing[\"Height\"].mean(),\n",
    "       yerr=mens_rowing[\"Height\"].std()) # ADICIONA LINEA VERTICAL (VALOR MEDIO/STD())\n",
    "ax.bar(\"Gymnastics\",mens_gymnastics[\"Height\"].mean(),\n",
    "       yerr=mens_gymnastics[\"Height\"].std()) # ADICIONA LINEA VERTICAL (VALOR MEDIO/STD())\n",
    "\n",
    "ax.set_ylabel(\"Height (cm)\")\n",
    "plt.show()\n"
   ]
  },
  {
   "cell_type": "code",
   "execution_count": null,
   "metadata": {},
   "outputs": [],
   "source": [
    "# Adding error bars to plots --**** REPASAR\n",
    "fig, ax = plt.subplots()\n",
    "\n",
    "ax.errorbar(seattle_weather[\"MONTH\"],seattle_weather[\"MLY-TAVG-NORMAL\"],\n",
    "            yerr=seattle_weather[\"MLY-TAVG-STDDEV\"])\n",
    "ax.errorbar(austin_weather[\"MONTH\"],austin_weather[\"MLY-TAVG-NORMAL\"],\n",
    "            yerr=austin_weather[\"MLY-TAVG-STDDEV\"])\n",
    "\n",
    "ax.set_ylabel(\"Temperature (Fahrenheit)\")\n",
    "plt.show()\n"
   ]
  },
  {
   "cell_type": "code",
   "execution_count": null,
   "metadata": {},
   "outputs": [],
   "source": [
    "# Adding boxplots\n",
    "fig, ax = plt.subplots()\n",
    "\n",
    "ax.boxplot([mens_rowing[\"Height\"],mens_gymnastics[\"Height\"]])\n",
    "\n",
    "ax.set_xticklabels([\"Rowing\", \"Gymnastics\"])\n",
    "ax.set_ylabel(\"Height (cm)\")\n",
    "\n",
    "plt.show()"
   ]
  },
  {
   "cell_type": "markdown",
   "metadata": {},
   "source": [
    "### Quantitative comparisons: scatter plots"
   ]
  },
  {
   "cell_type": "code",
   "execution_count": null,
   "metadata": {},
   "outputs": [],
   "source": [
    "eighties = climate_change[\"1980-01-01\":\"1989-12-31\"]\n",
    "nineties = climate_change[\"1990-01-01\":\"1999-12-31\"]\n",
    "\n",
    "fig, ax = plt.subplots()\n",
    "ax.scatter(eighties[\"co2\"], eighties[\"relative_temp\"],\n",
    "           color=\"red\", label=\"eighties\")\n",
    "ax.scatter(nineties[\"co2\"], nineties[\"relative_temp\"],\n",
    "           color=\"blue\", label=\"nineties\")\n",
    "\n",
    "ax.legend()\n",
    "ax.set_xlabel(\"CO2 (ppm)\")\n",
    "ax.set_ylabel(\"Relative temperature (Celsius)\")\n",
    "plt.show()"
   ]
  },
  {
   "cell_type": "code",
   "execution_count": null,
   "metadata": {},
   "outputs": [],
   "source": [
    "fig, ax = plt.subplots()\n",
    "ax.scatter(climate_change[\"co2\"], climate_change[\"relative_temp\"],\n",
    "           c=climate_change.index)\n",
    "ax.set_xlabel(\"CO2 (ppm)\")\n",
    "ax.set_ylabel(\"Relative temperature (Celsius)\")\n",
    "plt.show()"
   ]
  },
  {
   "cell_type": "markdown",
   "metadata": {},
   "source": [
    "## 4.Sharing visualizations with others"
   ]
  },
  {
   "cell_type": "markdown",
   "metadata": {},
   "source": [
    "### Preparing your figures to share with others"
   ]
  },
  {
   "cell_type": "code",
   "execution_count": null,
   "metadata": {},
   "outputs": [],
   "source": [
    "# plt.style.use(\"ggplot\") # LO ADICIONAL\n",
    "\n",
    "# fig, ax = plt.subplots()\n",
    "# ax.plot(seattle_weather[\"MONTH\"], seattle_weather[\"MLY-TAVG-NORMAL\"])\n",
    "# ax.plot(austin_weather[\"MONTH\"], austin_weather[\"MLY-TAVG-NORMAL\"])\n",
    "# ax.set_xlabel(\"Time (months)\")ax.set_ylabel(\"Average temperature (Fahrenheit degrees)\")\n",
    "# plt.show()"
   ]
  },
  {
   "cell_type": "code",
   "execution_count": null,
   "metadata": {},
   "outputs": [],
   "source": [
    "# Referencia\n",
    "# https://matplotlib.org/stable/gallery/style_sheets/style_sheets_reference.html\n",
    "\n",
    "# plt.style.use(\"default\")\n",
    "# plt.style.use(\"bmh\")\n",
    "# plt.style.use(\"Solarize_Light2\")\n",
    "# plt.style.use(\"seaborn-colorblind\") # Mas recomendable o tableau-colorblind10 , grayscale"
   ]
  },
  {
   "cell_type": "markdown",
   "metadata": {},
   "source": [
    "### Saving your visualizations"
   ]
  },
  {
   "cell_type": "code",
   "execution_count": null,
   "metadata": {},
   "outputs": [],
   "source": [
    "fig, ax = plt.subplots()\n",
    "\n",
    "ax.bar(medals.index, medals[\"Gold\"])\n",
    "ax.set_xticklabels(medals.index, rotation=90)\n",
    "ax.set_ylabel(\"Number of medals\")\n",
    "\n",
    "fig.savefig(\"gold_medals.png\") # GUARDAR EL GRAFICO REALIZADO"
   ]
  },
  {
   "cell_type": "code",
   "execution_count": null,
   "metadata": {},
   "outputs": [],
   "source": [
    "fig.savefig(\"gold_medals.jpg\", quality=50) # CALIDAD no mayor a 95\n",
    "fig.savefig(\"gold_medals.svg\")\n",
    "\n",
    "fig.savefig(\"gold_medals.png\", dpi=300) #DPI - Puntos por pulgada\n",
    "\n",
    "fig.set_size_inches([5, 3]) # ANCHO - ALTURA"
   ]
  },
  {
   "cell_type": "markdown",
   "metadata": {},
   "source": [
    "### Automating figures from data"
   ]
  },
  {
   "cell_type": "code",
   "execution_count": null,
   "metadata": {},
   "outputs": [],
   "source": [
    "sports = summer_2016_medals[\"Sport\"].unique()\n",
    "print(sports)\n",
    "\n",
    "fig, ax = plt.subplots()\n",
    "for sport in sports:  \n",
    "    sport_df = summer_2016_medals[summer_2016_medals[\"Sport\"] == sport]  \n",
    "    ax.bar(sport, sport_df[\"Height\"].mean(),          \n",
    "           yerr=sport_df[\"Height\"].std())\n",
    "    \n",
    "ax.set_ylabel(\"Height (cm)\")\n",
    "ax.set_xticklabels(sports, rotation=90)\n",
    "plt.show()"
   ]
  },
  {
   "cell_type": "markdown",
   "metadata": {},
   "source": [
    "### Where to go next"
   ]
  },
  {
   "cell_type": "code",
   "execution_count": null,
   "metadata": {},
   "outputs": [],
   "source": [
    "# PANDAS + MATPLOTLIB == \"SEABORN\""
   ]
  }
 ],
 "metadata": {
  "kernelspec": {
   "display_name": "Python 3",
   "language": "python",
   "name": "python3"
  },
  "language_info": {
   "codemirror_mode": {
    "name": "ipython",
    "version": 3
   },
   "file_extension": ".py",
   "mimetype": "text/x-python",
   "name": "python",
   "nbconvert_exporter": "python",
   "pygments_lexer": "ipython3",
   "version": "3.8.5"
  }
 },
 "nbformat": 4,
 "nbformat_minor": 4
}
