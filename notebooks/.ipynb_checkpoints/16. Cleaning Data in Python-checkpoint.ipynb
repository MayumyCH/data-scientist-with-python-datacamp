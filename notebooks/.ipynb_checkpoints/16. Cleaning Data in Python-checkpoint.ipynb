{
 "cells": [
  {
   "cell_type": "markdown",
   "metadata": {},
   "source": [
    "# Cleaning Data in Python"
   ]
  },
  {
   "cell_type": "markdown",
   "metadata": {},
   "source": [
    "**Descripción del curso**\n",
    "\n",
    "Se dice comúnmente que los científicos de datos pasan el 80% de su tiempo limpiando y manipulando datos y solo el 20% de su tiempo analizándolos. El tiempo dedicado a la limpieza es vital, ya que el análisis de datos sucios puede llevarlo a sacar conclusiones inexactas. La limpieza de datos es una tarea esencial en la ciencia de datos. Sin datos debidamente limpiados, los resultados de cualquier análisis de datos o modelo de aprendizaje automático podrían ser inexactos. \n",
    "\n",
    "En este curso, aprenderá a identificar, diagnosticar y tratar una variedad de problemas de limpieza de datos en Python, desde simples hasta avanzados. Tratará con tipos de datos incorrectos, comprobará que sus datos estén en el rango correcto, manejará los datos que faltan, realizará la vinculación de registros y mucho más. "
   ]
  },
  {
   "cell_type": "markdown",
   "metadata": {},
   "source": [
    "## Importando la data"
   ]
  },
  {
   "cell_type": "code",
   "execution_count": 2,
   "metadata": {},
   "outputs": [],
   "source": [
    "import pandas as pd\n",
    "import numpy as np\n",
    "import missingno as msno\n",
    "import matplotlib.pyplot as plt"
   ]
  },
  {
   "cell_type": "code",
   "execution_count": 46,
   "metadata": {},
   "outputs": [
    {
     "data": {
      "text/html": [
       "<div>\n",
       "<style scoped>\n",
       "    .dataframe tbody tr th:only-of-type {\n",
       "        vertical-align: middle;\n",
       "    }\n",
       "\n",
       "    .dataframe tbody tr th {\n",
       "        vertical-align: top;\n",
       "    }\n",
       "\n",
       "    .dataframe thead th {\n",
       "        text-align: right;\n",
       "    }\n",
       "</style>\n",
       "<table border=\"1\" class=\"dataframe\">\n",
       "  <thead>\n",
       "    <tr style=\"text-align: right;\">\n",
       "      <th></th>\n",
       "      <th>name</th>\n",
       "      <th>addr</th>\n",
       "      <th>city</th>\n",
       "      <th>phone</th>\n",
       "      <th>type</th>\n",
       "    </tr>\n",
       "  </thead>\n",
       "  <tbody>\n",
       "    <tr>\n",
       "      <th>0</th>\n",
       "      <td>arnie morton's of chicago</td>\n",
       "      <td>435 s. la cienega blv .</td>\n",
       "      <td>los angeles</td>\n",
       "      <td>3102461501</td>\n",
       "      <td>american</td>\n",
       "    </tr>\n",
       "    <tr>\n",
       "      <th>1</th>\n",
       "      <td>art's delicatessen</td>\n",
       "      <td>12224 ventura blvd.</td>\n",
       "      <td>studio city</td>\n",
       "      <td>8187621221</td>\n",
       "      <td>american</td>\n",
       "    </tr>\n",
       "    <tr>\n",
       "      <th>2</th>\n",
       "      <td>campanile</td>\n",
       "      <td>624 s. la brea ave.</td>\n",
       "      <td>los angeles</td>\n",
       "      <td>2139381447</td>\n",
       "      <td>american</td>\n",
       "    </tr>\n",
       "    <tr>\n",
       "      <th>3</th>\n",
       "      <td>fenix</td>\n",
       "      <td>8358 sunset blvd. west</td>\n",
       "      <td>hollywood</td>\n",
       "      <td>2138486677</td>\n",
       "      <td>american</td>\n",
       "    </tr>\n",
       "    <tr>\n",
       "      <th>4</th>\n",
       "      <td>grill on the alley</td>\n",
       "      <td>9560 dayton way</td>\n",
       "      <td>los angeles</td>\n",
       "      <td>3102760615</td>\n",
       "      <td>american</td>\n",
       "    </tr>\n",
       "  </tbody>\n",
       "</table>\n",
       "</div>"
      ],
      "text/plain": [
       "                        name                       addr         city  \\\n",
       "0  arnie morton's of chicago   435 s. la cienega blv .   los angeles   \n",
       "1         art's delicatessen       12224 ventura blvd.   studio city   \n",
       "2                  campanile       624 s. la brea ave.   los angeles   \n",
       "3                      fenix    8358 sunset blvd. west     hollywood   \n",
       "4         grill on the alley           9560 dayton way   los angeles   \n",
       "\n",
       "        phone      type  \n",
       "0  3102461501  american  \n",
       "1  8187621221  american  \n",
       "2  2139381447  american  \n",
       "3  2138486677  american  \n",
       "4  3102760615  american  "
      ]
     },
     "execution_count": 46,
     "metadata": {},
     "output_type": "execute_result"
    }
   ],
   "source": [
    "df_ride = pd.read_csv('../datasets/ride_sharing_new.csv')\n",
    "df_ridev2 = pd.read_csv('../datasets/ride_sharing_new_v2.csv',sep=';')\n",
    "height_weight= pd.read_csv('../datasets/height_weight.csv',sep=';',index_col=0)\n",
    "airlines = pd.read_csv('../datasets/airlines_final.csv',index_col=0)\n",
    "categories = pd.read_csv('../datasets/categories.csv',index_col=0,sep=';')\n",
    "banking = pd.read_csv('../datasets/banking.csv',index_col=0,sep=';')\n",
    "restaurants = pd.read_csv('../datasets/restaurants_L2_dirty.csv',index_col=0)\n",
    "restaurants_new = pd.read_csv('../datasets/restaurants_L2.csv',index_col=0)\n",
    "restaurants_new.head()"
   ]
  },
  {
   "cell_type": "code",
   "execution_count": 52,
   "metadata": {},
   "outputs": [
    {
     "data": {
      "text/plain": [
       "(5, 3)"
      ]
     },
     "execution_count": 52,
     "metadata": {},
     "output_type": "execute_result"
    }
   ],
   "source": [
    "categories.shape"
   ]
  },
  {
   "cell_type": "markdown",
   "metadata": {},
   "source": [
    "## 1. Common data problems"
   ]
  },
  {
   "cell_type": "markdown",
   "metadata": {},
   "source": [
    "### Data type constraints"
   ]
  },
  {
   "cell_type": "code",
   "execution_count": 12,
   "metadata": {},
   "outputs": [
    {
     "data": {
      "text/plain": [
       "Unnamed: 0            int64\n",
       "duration             object\n",
       "station_A_id          int64\n",
       "station_A_name       object\n",
       "station_B_id          int64\n",
       "station_B_name       object\n",
       "bike_id               int64\n",
       "user_type             int64\n",
       "user_birth_year       int64\n",
       "user_gender          object\n",
       "user_type_cat      category\n",
       "duration_trim        object\n",
       "duration_time         int32\n",
       "dtype: object"
      ]
     },
     "execution_count": 12,
     "metadata": {},
     "output_type": "execute_result"
    }
   ],
   "source": [
    "df_ride.dtypes"
   ]
  },
  {
   "cell_type": "code",
   "execution_count": 14,
   "metadata": {},
   "outputs": [
    {
     "name": "stdout",
     "output_type": "stream",
     "text": [
      "<class 'pandas.core.frame.DataFrame'>\n",
      "RangeIndex: 25760 entries, 0 to 25759\n",
      "Data columns (total 13 columns):\n",
      " #   Column           Non-Null Count  Dtype   \n",
      "---  ------           --------------  -----   \n",
      " 0   Unnamed: 0       25760 non-null  int64   \n",
      " 1   duration         25760 non-null  object  \n",
      " 2   station_A_id     25760 non-null  int64   \n",
      " 3   station_A_name   25760 non-null  object  \n",
      " 4   station_B_id     25760 non-null  int64   \n",
      " 5   station_B_name   25760 non-null  object  \n",
      " 6   bike_id          25760 non-null  int64   \n",
      " 7   user_type        25760 non-null  int64   \n",
      " 8   user_birth_year  25760 non-null  int64   \n",
      " 9   user_gender      25760 non-null  object  \n",
      " 10  user_type_cat    25760 non-null  category\n",
      " 11  duration_trim    25760 non-null  object  \n",
      " 12  duration_time    25760 non-null  int32   \n",
      "dtypes: category(1), int32(1), int64(6), object(5)\n",
      "memory usage: 2.3+ MB\n"
     ]
    }
   ],
   "source": [
    "df_ride.info()"
   ]
  },
  {
   "cell_type": "code",
   "execution_count": 7,
   "metadata": {},
   "outputs": [
    {
     "data": {
      "text/plain": [
       "count    25760.000000\n",
       "mean         2.008385\n",
       "std          0.704541\n",
       "min          1.000000\n",
       "25%          2.000000\n",
       "50%          2.000000\n",
       "75%          3.000000\n",
       "max          3.000000\n",
       "Name: user_type, dtype: float64"
      ]
     },
     "execution_count": 7,
     "metadata": {},
     "output_type": "execute_result"
    }
   ],
   "source": [
    "df_ride['user_type'].describe()"
   ]
  },
  {
   "cell_type": "code",
   "execution_count": 9,
   "metadata": {},
   "outputs": [
    {
     "name": "stdout",
     "output_type": "stream",
     "text": [
      "count     25760\n",
      "unique        3\n",
      "top           2\n",
      "freq      12972\n",
      "Name: user_type_cat, dtype: int64\n"
     ]
    }
   ],
   "source": [
    "# CONVIRTIENDO EN CATEGORICO EL VALOR DE LA COLUMNA\n",
    "df_ride['user_type_cat'] = df_ride['user_type'].astype('category')\n",
    "\n",
    "# Comprobar si el tipo de la columna es categórico\n",
    "assert df_ride['user_type_cat'].dtype == 'category'\n",
    "print(df_ride['user_type_cat'].describe())"
   ]
  },
  {
   "cell_type": "code",
   "execution_count": 11,
   "metadata": {},
   "outputs": [
    {
     "name": "stdout",
     "output_type": "stream",
     "text": [
      "11.389052795031056\n"
     ]
    }
   ],
   "source": [
    "# CONVIRTIENDO EN NUMERICO Y CORTANDO UNA PARTE DE LA COLUMNA\n",
    "df_ride['duration_trim'] = df_ride['duration'].str.strip('minutes')\n",
    "df_ride['duration_time'] = df_ride['duration_trim'].astype('int')\n",
    "assert df_ride['duration_time'].dtype == 'int'\n",
    "# print(df_ride[['duration','duration_trim','duration_time']])\n",
    "print(df_ride['duration_time'].mean())"
   ]
  },
  {
   "cell_type": "markdown",
   "metadata": {},
   "source": [
    "### Data range constraints"
   ]
  },
  {
   "cell_type": "code",
   "execution_count": 29,
   "metadata": {},
   "outputs": [
    {
     "name": "stdout",
     "output_type": "stream",
     "text": [
      "count     20\n",
      "unique     2\n",
      "top       27\n",
      "freq      10\n",
      "Name: tire_sizes, dtype: int64\n"
     ]
    }
   ],
   "source": [
    "# Maximo valor de 'tire_sizes' sera 27\n",
    "df_ridev2['tire_sizes'] = df_ridev2['tire_sizes'].astype('int')\n",
    "df_ridev2.loc[df_ridev2['tire_sizes']> 27, 'tire_sizes'] = 27\n",
    "df_ridev2['tire_sizes'] =df_ridev2['tire_sizes'].astype('category')\n",
    "\n",
    "print(df_ridev2['tire_sizes'].describe())"
   ]
  },
  {
   "cell_type": "code",
   "execution_count": 41,
   "metadata": {},
   "outputs": [
    {
     "name": "stdout",
     "output_type": "stream",
     "text": [
      "2021-05-17\n"
     ]
    }
   ],
   "source": [
    "import datetime as dt\n",
    "df_ridev2['ride_dt'] = pd.to_datetime(df_ridev2['ride_date'])\n",
    "\n",
    "# Save today's date\n",
    "today = dt.date.today()\n",
    "# print(today)\n",
    "df_ridev2.loc[df_ridev2['ride_dt'] > pd.to_datetime(today), 'ride_dt'] = today\n",
    "print(df_ridev2['ride_dt'].max())"
   ]
  },
  {
   "cell_type": "markdown",
   "metadata": {},
   "source": [
    "### Uniqueness constraints"
   ]
  },
  {
   "cell_type": "code",
   "execution_count": 88,
   "metadata": {},
   "outputs": [
    {
     "data": {
      "text/html": [
       "<div>\n",
       "<style scoped>\n",
       "    .dataframe tbody tr th:only-of-type {\n",
       "        vertical-align: middle;\n",
       "    }\n",
       "\n",
       "    .dataframe tbody tr th {\n",
       "        vertical-align: top;\n",
       "    }\n",
       "\n",
       "    .dataframe thead th {\n",
       "        text-align: right;\n",
       "    }\n",
       "</style>\n",
       "<table border=\"1\" class=\"dataframe\">\n",
       "  <thead>\n",
       "    <tr style=\"text-align: right;\">\n",
       "      <th></th>\n",
       "      <th>first_name</th>\n",
       "      <th>last_name</th>\n",
       "      <th>height</th>\n",
       "      <th>weight</th>\n",
       "    </tr>\n",
       "  </thead>\n",
       "  <tbody>\n",
       "    <tr>\n",
       "      <th>0</th>\n",
       "      <td>Lane</td>\n",
       "      <td>Reese</td>\n",
       "      <td>181</td>\n",
       "      <td>64</td>\n",
       "    </tr>\n",
       "    <tr>\n",
       "      <th>1</th>\n",
       "      <td>Ivor</td>\n",
       "      <td>Pierce</td>\n",
       "      <td>168</td>\n",
       "      <td>66</td>\n",
       "    </tr>\n",
       "    <tr>\n",
       "      <th>2</th>\n",
       "      <td>Roary</td>\n",
       "      <td>Gibson</td>\n",
       "      <td>191</td>\n",
       "      <td>99</td>\n",
       "    </tr>\n",
       "    <tr>\n",
       "      <th>3</th>\n",
       "      <td>Shannon</td>\n",
       "      <td>Little</td>\n",
       "      <td>185</td>\n",
       "      <td>65</td>\n",
       "    </tr>\n",
       "    <tr>\n",
       "      <th>4</th>\n",
       "      <td>Abdul</td>\n",
       "      <td>Fry</td>\n",
       "      <td>169</td>\n",
       "      <td>65</td>\n",
       "    </tr>\n",
       "  </tbody>\n",
       "</table>\n",
       "</div>"
      ],
      "text/plain": [
       "  first_name last_name  height  weight\n",
       "0       Lane     Reese     181      64\n",
       "1       Ivor    Pierce     168      66\n",
       "2      Roary    Gibson     191      99\n",
       "3    Shannon    Little     185      65\n",
       "4      Abdul       Fry     169      65"
      ]
     },
     "execution_count": 88,
     "metadata": {},
     "output_type": "execute_result"
    }
   ],
   "source": [
    "height_weight.head()"
   ]
  },
  {
   "cell_type": "markdown",
   "metadata": {},
   "source": [
    "**The .duplicated() method**\n",
    "\n",
    "> **subset** : List of column names to check for duplication.\n",
    ">\n",
    "> **keep** : Whether to keep 'first', 'last' o all ('False')\n",
    ">\n",
    "> **Inplace** : Drop duplicated rows directly inside DataFrame without creating new object ( True )."
   ]
  },
  {
   "cell_type": "code",
   "execution_count": 89,
   "metadata": {},
   "outputs": [
    {
     "data": {
      "text/html": [
       "<div>\n",
       "<style scoped>\n",
       "    .dataframe tbody tr th:only-of-type {\n",
       "        vertical-align: middle;\n",
       "    }\n",
       "\n",
       "    .dataframe tbody tr th {\n",
       "        vertical-align: top;\n",
       "    }\n",
       "\n",
       "    .dataframe thead th {\n",
       "        text-align: right;\n",
       "    }\n",
       "</style>\n",
       "<table border=\"1\" class=\"dataframe\">\n",
       "  <thead>\n",
       "    <tr style=\"text-align: right;\">\n",
       "      <th></th>\n",
       "      <th>first_name</th>\n",
       "      <th>last_name</th>\n",
       "      <th>height</th>\n",
       "      <th>weight</th>\n",
       "    </tr>\n",
       "  </thead>\n",
       "  <tbody>\n",
       "    <tr>\n",
       "      <th>22</th>\n",
       "      <td>Cole</td>\n",
       "      <td>Palmer</td>\n",
       "      <td>178</td>\n",
       "      <td>91</td>\n",
       "    </tr>\n",
       "    <tr>\n",
       "      <th>102</th>\n",
       "      <td>Cole</td>\n",
       "      <td>Palmer</td>\n",
       "      <td>178</td>\n",
       "      <td>91</td>\n",
       "    </tr>\n",
       "    <tr>\n",
       "      <th>28</th>\n",
       "      <td>Desirae</td>\n",
       "      <td>Shannon</td>\n",
       "      <td>195</td>\n",
       "      <td>83</td>\n",
       "    </tr>\n",
       "    <tr>\n",
       "      <th>103</th>\n",
       "      <td>Desirae</td>\n",
       "      <td>Shannon</td>\n",
       "      <td>196</td>\n",
       "      <td>83</td>\n",
       "    </tr>\n",
       "    <tr>\n",
       "      <th>1</th>\n",
       "      <td>Ivor</td>\n",
       "      <td>Pierce</td>\n",
       "      <td>168</td>\n",
       "      <td>66</td>\n",
       "    </tr>\n",
       "    <tr>\n",
       "      <th>101</th>\n",
       "      <td>Ivor</td>\n",
       "      <td>Pierce</td>\n",
       "      <td>168</td>\n",
       "      <td>88</td>\n",
       "    </tr>\n",
       "    <tr>\n",
       "      <th>37</th>\n",
       "      <td>Mary</td>\n",
       "      <td>Colon</td>\n",
       "      <td>179</td>\n",
       "      <td>75</td>\n",
       "    </tr>\n",
       "    <tr>\n",
       "      <th>100</th>\n",
       "      <td>Mary</td>\n",
       "      <td>Colon</td>\n",
       "      <td>179</td>\n",
       "      <td>75</td>\n",
       "    </tr>\n",
       "  </tbody>\n",
       "</table>\n",
       "</div>"
      ],
      "text/plain": [
       "    first_name last_name  height  weight\n",
       "22        Cole    Palmer     178      91\n",
       "102       Cole    Palmer     178      91\n",
       "28     Desirae   Shannon     195      83\n",
       "103    Desirae   Shannon     196      83\n",
       "1         Ivor    Pierce     168      66\n",
       "101       Ivor    Pierce     168      88\n",
       "37        Mary     Colon     179      75\n",
       "100       Mary     Colon     179      75"
      ]
     },
     "execution_count": 89,
     "metadata": {},
     "output_type": "execute_result"
    }
   ],
   "source": [
    "column_names = ['first_name','last_name']\n",
    "duplicates = height_weight.duplicated(subset = column_names, keep = False)\n",
    "height_weight[duplicates].sort_values(by = 'first_name')"
   ]
  },
  {
   "cell_type": "code",
   "execution_count": 90,
   "metadata": {},
   "outputs": [],
   "source": [
    "height_weight.drop_duplicates(inplace = True) # Elimino duplicado completo"
   ]
  },
  {
   "cell_type": "code",
   "execution_count": 91,
   "metadata": {},
   "outputs": [
    {
     "data": {
      "text/html": [
       "<div>\n",
       "<style scoped>\n",
       "    .dataframe tbody tr th:only-of-type {\n",
       "        vertical-align: middle;\n",
       "    }\n",
       "\n",
       "    .dataframe tbody tr th {\n",
       "        vertical-align: top;\n",
       "    }\n",
       "\n",
       "    .dataframe thead th {\n",
       "        text-align: right;\n",
       "    }\n",
       "</style>\n",
       "<table border=\"1\" class=\"dataframe\">\n",
       "  <thead>\n",
       "    <tr style=\"text-align: right;\">\n",
       "      <th></th>\n",
       "      <th>first_name</th>\n",
       "      <th>last_name</th>\n",
       "      <th>height</th>\n",
       "      <th>weight</th>\n",
       "    </tr>\n",
       "  </thead>\n",
       "  <tbody>\n",
       "    <tr>\n",
       "      <th>28</th>\n",
       "      <td>Desirae</td>\n",
       "      <td>Shannon</td>\n",
       "      <td>195</td>\n",
       "      <td>83</td>\n",
       "    </tr>\n",
       "    <tr>\n",
       "      <th>103</th>\n",
       "      <td>Desirae</td>\n",
       "      <td>Shannon</td>\n",
       "      <td>196</td>\n",
       "      <td>83</td>\n",
       "    </tr>\n",
       "    <tr>\n",
       "      <th>1</th>\n",
       "      <td>Ivor</td>\n",
       "      <td>Pierce</td>\n",
       "      <td>168</td>\n",
       "      <td>66</td>\n",
       "    </tr>\n",
       "    <tr>\n",
       "      <th>101</th>\n",
       "      <td>Ivor</td>\n",
       "      <td>Pierce</td>\n",
       "      <td>168</td>\n",
       "      <td>88</td>\n",
       "    </tr>\n",
       "  </tbody>\n",
       "</table>\n",
       "</div>"
      ],
      "text/plain": [
       "    first_name last_name  height  weight\n",
       "28     Desirae   Shannon     195      83\n",
       "103    Desirae   Shannon     196      83\n",
       "1         Ivor    Pierce     168      66\n",
       "101       Ivor    Pierce     168      88"
      ]
     },
     "execution_count": 91,
     "metadata": {},
     "output_type": "execute_result"
    }
   ],
   "source": [
    "column_names = ['first_name','last_name']\n",
    "duplicates = height_weight.duplicated(subset = column_names, keep = False)\n",
    "height_weight[duplicates].sort_values(by = 'first_name')"
   ]
  },
  {
   "cell_type": "code",
   "execution_count": 93,
   "metadata": {},
   "outputs": [],
   "source": [
    "column_names = ['first_name','last_name']\n",
    "summaries = {'height': 'max','weight': 'mean'}"
   ]
  },
  {
   "cell_type": "code",
   "execution_count": 100,
   "metadata": {},
   "outputs": [
    {
     "data": {
      "text/html": [
       "<div>\n",
       "<style scoped>\n",
       "    .dataframe tbody tr th:only-of-type {\n",
       "        vertical-align: middle;\n",
       "    }\n",
       "\n",
       "    .dataframe tbody tr th {\n",
       "        vertical-align: top;\n",
       "    }\n",
       "\n",
       "    .dataframe thead th {\n",
       "        text-align: right;\n",
       "    }\n",
       "</style>\n",
       "<table border=\"1\" class=\"dataframe\">\n",
       "  <thead>\n",
       "    <tr style=\"text-align: right;\">\n",
       "      <th></th>\n",
       "      <th>first_name</th>\n",
       "      <th>last_name</th>\n",
       "      <th>height</th>\n",
       "      <th>weight</th>\n",
       "    </tr>\n",
       "  </thead>\n",
       "  <tbody>\n",
       "  </tbody>\n",
       "</table>\n",
       "</div>"
      ],
      "text/plain": [
       "Empty DataFrame\n",
       "Columns: [first_name, last_name, height, weight]\n",
       "Index: []"
      ]
     },
     "execution_count": 100,
     "metadata": {},
     "output_type": "execute_result"
    }
   ],
   "source": [
    "# Eliminar los duplicados que diferen en alguna columna\n",
    "height_weight = height_weight.groupby(by = column_names).agg(summaries).reset_index()\n",
    "duplicates = height_weight.duplicated(subset = column_names, keep = False)\n",
    "height_weight[duplicates].sort_values(by = 'first_name')"
   ]
  },
  {
   "cell_type": "markdown",
   "metadata": {},
   "source": [
    "## 2.Text and categorical data problems"
   ]
  },
  {
   "cell_type": "markdown",
   "metadata": {},
   "source": [
    "### Membership constraints"
   ]
  },
  {
   "cell_type": "code",
   "execution_count": 10,
   "metadata": {},
   "outputs": [
    {
     "data": {
      "text/html": [
       "<div>\n",
       "<style scoped>\n",
       "    .dataframe tbody tr th:only-of-type {\n",
       "        vertical-align: middle;\n",
       "    }\n",
       "\n",
       "    .dataframe tbody tr th {\n",
       "        vertical-align: top;\n",
       "    }\n",
       "\n",
       "    .dataframe thead th {\n",
       "        text-align: right;\n",
       "    }\n",
       "</style>\n",
       "<table border=\"1\" class=\"dataframe\">\n",
       "  <thead>\n",
       "    <tr style=\"text-align: right;\">\n",
       "      <th></th>\n",
       "      <th>id</th>\n",
       "      <th>day</th>\n",
       "      <th>airline</th>\n",
       "      <th>destination</th>\n",
       "      <th>dest_region</th>\n",
       "      <th>dest_size</th>\n",
       "      <th>boarding_area</th>\n",
       "      <th>dept_time</th>\n",
       "      <th>wait_min</th>\n",
       "      <th>cleanliness</th>\n",
       "      <th>safety</th>\n",
       "      <th>satisfaction</th>\n",
       "    </tr>\n",
       "  </thead>\n",
       "  <tbody>\n",
       "    <tr>\n",
       "      <th>0</th>\n",
       "      <td>1351</td>\n",
       "      <td>Tuesday</td>\n",
       "      <td>UNITED INTL</td>\n",
       "      <td>KANSAI</td>\n",
       "      <td>Asia</td>\n",
       "      <td>Hub</td>\n",
       "      <td>Gates 91-102</td>\n",
       "      <td>2018-12-31</td>\n",
       "      <td>115.0</td>\n",
       "      <td>Clean</td>\n",
       "      <td>Neutral</td>\n",
       "      <td>Very satisfied</td>\n",
       "    </tr>\n",
       "    <tr>\n",
       "      <th>1</th>\n",
       "      <td>373</td>\n",
       "      <td>Friday</td>\n",
       "      <td>ALASKA</td>\n",
       "      <td>SAN JOSE DEL CABO</td>\n",
       "      <td>Canada/Mexico</td>\n",
       "      <td>Small</td>\n",
       "      <td>Gates 50-59</td>\n",
       "      <td>2018-12-31</td>\n",
       "      <td>135.0</td>\n",
       "      <td>Clean</td>\n",
       "      <td>Very safe</td>\n",
       "      <td>Very satisfied</td>\n",
       "    </tr>\n",
       "  </tbody>\n",
       "</table>\n",
       "</div>"
      ],
      "text/plain": [
       "     id      day      airline        destination    dest_region dest_size  \\\n",
       "0  1351  Tuesday  UNITED INTL             KANSAI           Asia       Hub   \n",
       "1   373   Friday       ALASKA  SAN JOSE DEL CABO  Canada/Mexico     Small   \n",
       "\n",
       "  boarding_area   dept_time  wait_min cleanliness     safety    satisfaction  \n",
       "0  Gates 91-102  2018-12-31     115.0       Clean    Neutral  Very satisfied  \n",
       "1   Gates 50-59  2018-12-31     135.0       Clean  Very safe  Very satisfied  "
      ]
     },
     "execution_count": 10,
     "metadata": {},
     "output_type": "execute_result"
    }
   ],
   "source": [
    "airlines.head(2)"
   ]
  },
  {
   "cell_type": "code",
   "execution_count": 11,
   "metadata": {},
   "outputs": [
    {
     "name": "stdout",
     "output_type": "stream",
     "text": [
      "Cleanliness:  ['Clean' 'Average' 'Somewhat clean' 'Somewhat dirty' 'Dirty'] \n",
      "\n"
     ]
    }
   ],
   "source": [
    "print('Cleanliness: ', airlines['cleanliness'].unique(), \"\\n\")"
   ]
  },
  {
   "cell_type": "code",
   "execution_count": 18,
   "metadata": {},
   "outputs": [
    {
     "name": "stdout",
     "output_type": "stream",
     "text": [
      "Empty DataFrame\n",
      "Columns: [id, day, airline, destination, dest_region, dest_size, boarding_area, dept_time, wait_min, cleanliness, safety, satisfaction]\n",
      "Index: []\n"
     ]
    }
   ],
   "source": [
    "# set(airlines['cleanliness']) => sacar los valores uniques de la columna\n",
    "\n",
    "cat_clean = set(airlines['cleanliness']).difference(categories['cleanliness'])\n",
    "cat_clean_rows = airlines['cleanliness'].isin(cat_clean)\n",
    "print(airlines[cat_clean_rows])\n",
    "# print(airlines[~cat_clean_rows]) # Data que nos interesa"
   ]
  },
  {
   "cell_type": "code",
   "execution_count": null,
   "metadata": {},
   "outputs": [],
   "source": []
  },
  {
   "cell_type": "markdown",
   "metadata": {},
   "source": [
    "### Categorical variables"
   ]
  },
  {
   "cell_type": "code",
   "execution_count": 22,
   "metadata": {},
   "outputs": [
    {
     "name": "stdout",
     "output_type": "stream",
     "text": [
      "['asia' 'canada/mexico' 'west us' 'east us' 'midwest us' 'middle east'\n",
      " 'europe' 'eur' 'central/south america' 'australia/new zealand']\n",
      "['Hub' 'Small' '    Hub' 'Medium' 'Large' 'Hub     ' '    Small'\n",
      " 'Medium     ' '    Medium' 'Small     ' '    Large' 'Large     ']\n"
     ]
    }
   ],
   "source": [
    "print(airlines['dest_region'].unique())\n",
    "print(airlines['dest_size'].unique())\n",
    "\n",
    "# Lower dest_region column and then replace \"eur\" with \"europe\"\n",
    "airlines['dest_region'] = airlines['dest_region'].str.lower()\n",
    "airlines['dest_region'] = airlines['dest_region'].replace({'eur':'europe'})"
   ]
  },
  {
   "cell_type": "code",
   "execution_count": 23,
   "metadata": {},
   "outputs": [
    {
     "name": "stdout",
     "output_type": "stream",
     "text": [
      "['asia' 'canada/mexico' 'west us' 'east us' 'midwest us' 'middle east'\n",
      " 'europe' 'central/south america' 'australia/new zealand']\n"
     ]
    }
   ],
   "source": [
    "print(airlines['dest_region'].unique())"
   ]
  },
  {
   "cell_type": "code",
   "execution_count": 24,
   "metadata": {},
   "outputs": [
    {
     "name": "stdout",
     "output_type": "stream",
     "text": [
      "['asia' 'canada/mexico' 'west us' 'east us' 'midwest us' 'middle east'\n",
      " 'europe' 'central/south america' 'australia/new zealand']\n",
      "['Hub' 'Small' 'Medium' 'Large']\n"
     ]
    }
   ],
   "source": [
    "airlines['dest_size'] = airlines['dest_size'].str.strip()\n",
    "\n",
    "# Verify changes have been effected\n",
    "print(airlines['dest_region'].unique())\n",
    "print(airlines['dest_size'].unique())"
   ]
  },
  {
   "cell_type": "code",
   "execution_count": null,
   "metadata": {},
   "outputs": [],
   "source": [
    "# Remapping categories"
   ]
  },
  {
   "cell_type": "code",
   "execution_count": 27,
   "metadata": {},
   "outputs": [],
   "source": [
    "label_ranges = [0, 60, 180, np.inf]\n",
    "label_names = ['short', 'medium', 'long']\n",
    "\n",
    "airlines['wait_type'] = pd.cut(airlines['wait_min'], bins=label_ranges, labels = label_names)\n",
    "\n",
    "mappings = {'Monday':'weekday', 'Tuesday':'weekday', 'Wednesday': 'weekday', \n",
    "            'Thursday': 'weekday', 'Friday': 'weekday', \n",
    "            'Saturday': 'weekend', 'Sunday': 'weekend'}\n",
    "\n",
    "airlines['day_week'] = airlines['day'].replace(mappings)"
   ]
  },
  {
   "cell_type": "code",
   "execution_count": 28,
   "metadata": {},
   "outputs": [
    {
     "data": {
      "text/plain": [
       "array(['weekday', 'weekend'], dtype=object)"
      ]
     },
     "execution_count": 28,
     "metadata": {},
     "output_type": "execute_result"
    }
   ],
   "source": [
    "airlines['day_week'].unique()"
   ]
  },
  {
   "cell_type": "code",
   "execution_count": 30,
   "metadata": {},
   "outputs": [
    {
     "data": {
      "text/html": [
       "<div>\n",
       "<style scoped>\n",
       "    .dataframe tbody tr th:only-of-type {\n",
       "        vertical-align: middle;\n",
       "    }\n",
       "\n",
       "    .dataframe tbody tr th {\n",
       "        vertical-align: top;\n",
       "    }\n",
       "\n",
       "    .dataframe thead th {\n",
       "        text-align: right;\n",
       "    }\n",
       "</style>\n",
       "<table border=\"1\" class=\"dataframe\">\n",
       "  <thead>\n",
       "    <tr style=\"text-align: right;\">\n",
       "      <th></th>\n",
       "      <th>id</th>\n",
       "      <th>day</th>\n",
       "      <th>airline</th>\n",
       "      <th>destination</th>\n",
       "      <th>dest_region</th>\n",
       "      <th>dest_size</th>\n",
       "      <th>boarding_area</th>\n",
       "      <th>dept_time</th>\n",
       "      <th>wait_min</th>\n",
       "      <th>cleanliness</th>\n",
       "      <th>safety</th>\n",
       "      <th>satisfaction</th>\n",
       "      <th>wait_type</th>\n",
       "      <th>day_week</th>\n",
       "    </tr>\n",
       "  </thead>\n",
       "  <tbody>\n",
       "    <tr>\n",
       "      <th>0</th>\n",
       "      <td>1351</td>\n",
       "      <td>Tuesday</td>\n",
       "      <td>UNITED INTL</td>\n",
       "      <td>KANSAI</td>\n",
       "      <td>asia</td>\n",
       "      <td>Hub</td>\n",
       "      <td>Gates 91-102</td>\n",
       "      <td>2018-12-31</td>\n",
       "      <td>115.0</td>\n",
       "      <td>Clean</td>\n",
       "      <td>Neutral</td>\n",
       "      <td>Very satisfied</td>\n",
       "      <td>medium</td>\n",
       "      <td>weekday</td>\n",
       "    </tr>\n",
       "    <tr>\n",
       "      <th>1</th>\n",
       "      <td>373</td>\n",
       "      <td>Friday</td>\n",
       "      <td>ALASKA</td>\n",
       "      <td>SAN JOSE DEL CABO</td>\n",
       "      <td>canada/mexico</td>\n",
       "      <td>Small</td>\n",
       "      <td>Gates 50-59</td>\n",
       "      <td>2018-12-31</td>\n",
       "      <td>135.0</td>\n",
       "      <td>Clean</td>\n",
       "      <td>Very safe</td>\n",
       "      <td>Very satisfied</td>\n",
       "      <td>medium</td>\n",
       "      <td>weekday</td>\n",
       "    </tr>\n",
       "    <tr>\n",
       "      <th>2</th>\n",
       "      <td>2820</td>\n",
       "      <td>Thursday</td>\n",
       "      <td>DELTA</td>\n",
       "      <td>LOS ANGELES</td>\n",
       "      <td>west us</td>\n",
       "      <td>Hub</td>\n",
       "      <td>Gates 40-48</td>\n",
       "      <td>2018-12-31</td>\n",
       "      <td>70.0</td>\n",
       "      <td>Average</td>\n",
       "      <td>Somewhat safe</td>\n",
       "      <td>Neutral</td>\n",
       "      <td>medium</td>\n",
       "      <td>weekday</td>\n",
       "    </tr>\n",
       "    <tr>\n",
       "      <th>3</th>\n",
       "      <td>1157</td>\n",
       "      <td>Tuesday</td>\n",
       "      <td>SOUTHWEST</td>\n",
       "      <td>LOS ANGELES</td>\n",
       "      <td>west us</td>\n",
       "      <td>Hub</td>\n",
       "      <td>Gates 20-39</td>\n",
       "      <td>2018-12-31</td>\n",
       "      <td>190.0</td>\n",
       "      <td>Clean</td>\n",
       "      <td>Very safe</td>\n",
       "      <td>Somewhat satsified</td>\n",
       "      <td>long</td>\n",
       "      <td>weekday</td>\n",
       "    </tr>\n",
       "    <tr>\n",
       "      <th>4</th>\n",
       "      <td>2992</td>\n",
       "      <td>Wednesday</td>\n",
       "      <td>AMERICAN</td>\n",
       "      <td>MIAMI</td>\n",
       "      <td>east us</td>\n",
       "      <td>Hub</td>\n",
       "      <td>Gates 50-59</td>\n",
       "      <td>2018-12-31</td>\n",
       "      <td>559.0</td>\n",
       "      <td>Somewhat clean</td>\n",
       "      <td>Very safe</td>\n",
       "      <td>Somewhat satsified</td>\n",
       "      <td>long</td>\n",
       "      <td>weekday</td>\n",
       "    </tr>\n",
       "    <tr>\n",
       "      <th>...</th>\n",
       "      <td>...</td>\n",
       "      <td>...</td>\n",
       "      <td>...</td>\n",
       "      <td>...</td>\n",
       "      <td>...</td>\n",
       "      <td>...</td>\n",
       "      <td>...</td>\n",
       "      <td>...</td>\n",
       "      <td>...</td>\n",
       "      <td>...</td>\n",
       "      <td>...</td>\n",
       "      <td>...</td>\n",
       "      <td>...</td>\n",
       "      <td>...</td>\n",
       "    </tr>\n",
       "    <tr>\n",
       "      <th>2804</th>\n",
       "      <td>1475</td>\n",
       "      <td>Tuesday</td>\n",
       "      <td>ALASKA</td>\n",
       "      <td>NEW YORK-JFK</td>\n",
       "      <td>east us</td>\n",
       "      <td>Hub</td>\n",
       "      <td>Gates 50-59</td>\n",
       "      <td>2018-12-31</td>\n",
       "      <td>280.0</td>\n",
       "      <td>Somewhat clean</td>\n",
       "      <td>Neutral</td>\n",
       "      <td>Somewhat satsified</td>\n",
       "      <td>long</td>\n",
       "      <td>weekday</td>\n",
       "    </tr>\n",
       "    <tr>\n",
       "      <th>2805</th>\n",
       "      <td>2222</td>\n",
       "      <td>Thursday</td>\n",
       "      <td>SOUTHWEST</td>\n",
       "      <td>PHOENIX</td>\n",
       "      <td>west us</td>\n",
       "      <td>Hub</td>\n",
       "      <td>Gates 20-39</td>\n",
       "      <td>2018-12-31</td>\n",
       "      <td>165.0</td>\n",
       "      <td>Clean</td>\n",
       "      <td>Very safe</td>\n",
       "      <td>Very satisfied</td>\n",
       "      <td>medium</td>\n",
       "      <td>weekday</td>\n",
       "    </tr>\n",
       "    <tr>\n",
       "      <th>2806</th>\n",
       "      <td>2684</td>\n",
       "      <td>Friday</td>\n",
       "      <td>UNITED</td>\n",
       "      <td>ORLANDO</td>\n",
       "      <td>east us</td>\n",
       "      <td>Hub</td>\n",
       "      <td>Gates 70-90</td>\n",
       "      <td>2018-12-31</td>\n",
       "      <td>92.0</td>\n",
       "      <td>Clean</td>\n",
       "      <td>Very safe</td>\n",
       "      <td>Very satisfied</td>\n",
       "      <td>medium</td>\n",
       "      <td>weekday</td>\n",
       "    </tr>\n",
       "    <tr>\n",
       "      <th>2807</th>\n",
       "      <td>2549</td>\n",
       "      <td>Tuesday</td>\n",
       "      <td>JETBLUE</td>\n",
       "      <td>LONG BEACH</td>\n",
       "      <td>west us</td>\n",
       "      <td>Small</td>\n",
       "      <td>Gates 1-12</td>\n",
       "      <td>2018-12-31</td>\n",
       "      <td>95.0</td>\n",
       "      <td>Clean</td>\n",
       "      <td>Somewhat safe</td>\n",
       "      <td>Very satisfied</td>\n",
       "      <td>medium</td>\n",
       "      <td>weekday</td>\n",
       "    </tr>\n",
       "    <tr>\n",
       "      <th>2808</th>\n",
       "      <td>2162</td>\n",
       "      <td>Saturday</td>\n",
       "      <td>CHINA EASTERN</td>\n",
       "      <td>QINGDAO</td>\n",
       "      <td>asia</td>\n",
       "      <td>Large</td>\n",
       "      <td>Gates 1-12</td>\n",
       "      <td>2018-12-31</td>\n",
       "      <td>220.0</td>\n",
       "      <td>Clean</td>\n",
       "      <td>Very safe</td>\n",
       "      <td>Somewhat satsified</td>\n",
       "      <td>long</td>\n",
       "      <td>weekend</td>\n",
       "    </tr>\n",
       "  </tbody>\n",
       "</table>\n",
       "<p>2477 rows × 14 columns</p>\n",
       "</div>"
      ],
      "text/plain": [
       "        id        day        airline        destination    dest_region  \\\n",
       "0     1351    Tuesday    UNITED INTL             KANSAI           asia   \n",
       "1      373     Friday         ALASKA  SAN JOSE DEL CABO  canada/mexico   \n",
       "2     2820   Thursday          DELTA        LOS ANGELES        west us   \n",
       "3     1157    Tuesday      SOUTHWEST        LOS ANGELES        west us   \n",
       "4     2992  Wednesday       AMERICAN              MIAMI        east us   \n",
       "...    ...        ...            ...                ...            ...   \n",
       "2804  1475    Tuesday         ALASKA       NEW YORK-JFK        east us   \n",
       "2805  2222   Thursday      SOUTHWEST            PHOENIX        west us   \n",
       "2806  2684     Friday         UNITED            ORLANDO        east us   \n",
       "2807  2549    Tuesday        JETBLUE         LONG BEACH        west us   \n",
       "2808  2162   Saturday  CHINA EASTERN            QINGDAO           asia   \n",
       "\n",
       "     dest_size boarding_area   dept_time  wait_min     cleanliness  \\\n",
       "0          Hub  Gates 91-102  2018-12-31     115.0           Clean   \n",
       "1        Small   Gates 50-59  2018-12-31     135.0           Clean   \n",
       "2          Hub   Gates 40-48  2018-12-31      70.0         Average   \n",
       "3          Hub   Gates 20-39  2018-12-31     190.0           Clean   \n",
       "4          Hub   Gates 50-59  2018-12-31     559.0  Somewhat clean   \n",
       "...        ...           ...         ...       ...             ...   \n",
       "2804       Hub   Gates 50-59  2018-12-31     280.0  Somewhat clean   \n",
       "2805       Hub   Gates 20-39  2018-12-31     165.0           Clean   \n",
       "2806       Hub   Gates 70-90  2018-12-31      92.0           Clean   \n",
       "2807     Small    Gates 1-12  2018-12-31      95.0           Clean   \n",
       "2808     Large    Gates 1-12  2018-12-31     220.0           Clean   \n",
       "\n",
       "             safety        satisfaction wait_type day_week  \n",
       "0           Neutral      Very satisfied    medium  weekday  \n",
       "1         Very safe      Very satisfied    medium  weekday  \n",
       "2     Somewhat safe             Neutral    medium  weekday  \n",
       "3         Very safe  Somewhat satsified      long  weekday  \n",
       "4         Very safe  Somewhat satsified      long  weekday  \n",
       "...             ...                 ...       ...      ...  \n",
       "2804        Neutral  Somewhat satsified      long  weekday  \n",
       "2805      Very safe      Very satisfied    medium  weekday  \n",
       "2806      Very safe      Very satisfied    medium  weekday  \n",
       "2807  Somewhat safe      Very satisfied    medium  weekday  \n",
       "2808      Very safe  Somewhat satsified      long  weekend  \n",
       "\n",
       "[2477 rows x 14 columns]"
      ]
     },
     "execution_count": 30,
     "metadata": {},
     "output_type": "execute_result"
    }
   ],
   "source": [
    "airlines"
   ]
  },
  {
   "cell_type": "markdown",
   "metadata": {},
   "source": [
    "### Cleaning text data"
   ]
  },
  {
   "cell_type": "code",
   "execution_count": null,
   "metadata": {},
   "outputs": [],
   "source": [
    "# Replace \"Ms.\" with empty string \"\"\n",
    "airlines['full_name'] = airlines['full_name'].str.replace(\"Ms.\",\"\")\n",
    "\n",
    "# Assert that full_name has no honorifics\n",
    "assert airlines['full_name'].str.contains('Ms.|Mr.|Miss|Dr.').any() == False"
   ]
  },
  {
   "cell_type": "code",
   "execution_count": null,
   "metadata": {},
   "outputs": [],
   "source": [
    "resp_length = airlines['survey_response'].str.len()\n",
    "\n",
    "airlines_survey = airlines[resp_length > 40]\n",
    "assert airlines_survey['survey_response'].str.len().min() > 40\n",
    "\n",
    "print(airlines_survey['survey_response'])"
   ]
  },
  {
   "cell_type": "code",
   "execution_count": null,
   "metadata": {},
   "outputs": [],
   "source": []
  },
  {
   "cell_type": "markdown",
   "metadata": {},
   "source": [
    "## 3. Advanced data problems"
   ]
  },
  {
   "cell_type": "markdown",
   "metadata": {},
   "source": [
    "### Uniformity"
   ]
  },
  {
   "cell_type": "code",
   "execution_count": 57,
   "metadata": {},
   "outputs": [],
   "source": [
    "acct_eu = banking['acct_cur'] == 'euro'\n",
    "banking.loc[acct_eu, 'acct_amount'] = banking.loc[acct_eu, 'acct_amount'] * 1.1\n",
    "banking.loc[acct_eu, 'acct_cur'] = 'dollar'\n",
    "assert banking['acct_cur'].unique() == 'dollar'"
   ]
  },
  {
   "cell_type": "code",
   "execution_count": 61,
   "metadata": {},
   "outputs": [
    {
     "name": "stdout",
     "output_type": "stream",
     "text": [
      "0   2018-03-05\n",
      "1          NaT\n",
      "2          NaT\n",
      "3          NaT\n",
      "4   2017-05-06\n",
      "Name: account_opened, dtype: datetime64[ns]\n"
     ]
    },
    {
     "data": {
      "text/plain": [
       "0    2018\n",
       "1     NaN\n",
       "2     NaN\n",
       "3     NaN\n",
       "4    2017\n",
       "Name: acct_year, dtype: object"
      ]
     },
     "execution_count": 61,
     "metadata": {},
     "output_type": "execute_result"
    }
   ],
   "source": [
    "print(banking['account_opened'].head())\n",
    "\n",
    "# Convert account_opened to datetime\n",
    "banking['account_opened'] = pd.to_datetime(banking['account_opened'],\n",
    "                                           # Inferir formato de fecha y hora\n",
    "                                           infer_datetime_format = True,\n",
    "                                           # Devuelve el valor faltante por error \n",
    "                                           errors = 'coerce') \n",
    "# Get year of account opened\n",
    "banking['acct_year'] = banking['account_opened'].dt.strftime('%Y')\n",
    "\n",
    "# Print acct_year\n",
    "banking['acct_year'].head()"
   ]
  },
  {
   "cell_type": "code",
   "execution_count": null,
   "metadata": {},
   "outputs": [],
   "source": []
  },
  {
   "cell_type": "markdown",
   "metadata": {},
   "source": [
    "### Cross field validation"
   ]
  },
  {
   "cell_type": "code",
   "execution_count": 63,
   "metadata": {},
   "outputs": [
    {
     "data": {
      "text/html": [
       "<div>\n",
       "<style scoped>\n",
       "    .dataframe tbody tr th:only-of-type {\n",
       "        vertical-align: middle;\n",
       "    }\n",
       "\n",
       "    .dataframe tbody tr th {\n",
       "        vertical-align: top;\n",
       "    }\n",
       "\n",
       "    .dataframe thead th {\n",
       "        text-align: right;\n",
       "    }\n",
       "</style>\n",
       "<table border=\"1\" class=\"dataframe\">\n",
       "  <thead>\n",
       "    <tr style=\"text-align: right;\">\n",
       "      <th></th>\n",
       "      <th>cust_id</th>\n",
       "      <th>acct_amount</th>\n",
       "      <th>acct_cur</th>\n",
       "      <th>inv_amount</th>\n",
       "      <th>account_opened</th>\n",
       "      <th>last_transaction</th>\n",
       "      <th>acct_year</th>\n",
       "    </tr>\n",
       "  </thead>\n",
       "  <tbody>\n",
       "    <tr>\n",
       "      <th>0</th>\n",
       "      <td>8C35540A</td>\n",
       "      <td>44244.7100</td>\n",
       "      <td>dollar</td>\n",
       "      <td>35500.50</td>\n",
       "      <td>2018-03-05</td>\n",
       "      <td>30/09/2019</td>\n",
       "      <td>2018</td>\n",
       "    </tr>\n",
       "    <tr>\n",
       "      <th>1</th>\n",
       "      <td>D5536652</td>\n",
       "      <td>86506.8500</td>\n",
       "      <td>dollar</td>\n",
       "      <td>81921.86</td>\n",
       "      <td>NaT</td>\n",
       "      <td>14/01/2019</td>\n",
       "      <td>NaN</td>\n",
       "    </tr>\n",
       "    <tr>\n",
       "      <th>2</th>\n",
       "      <td>A631984D</td>\n",
       "      <td>77799.3300</td>\n",
       "      <td>dollar</td>\n",
       "      <td>46412.27</td>\n",
       "      <td>NaT</td>\n",
       "      <td>6/10/2019</td>\n",
       "      <td>NaN</td>\n",
       "    </tr>\n",
       "    <tr>\n",
       "      <th>3</th>\n",
       "      <td>93F2F951</td>\n",
       "      <td>113589.0404</td>\n",
       "      <td>dollar</td>\n",
       "      <td>76563.35</td>\n",
       "      <td>NaT</td>\n",
       "      <td>10/07/2019</td>\n",
       "      <td>NaN</td>\n",
       "    </tr>\n",
       "    <tr>\n",
       "      <th>4</th>\n",
       "      <td>DE0A0882</td>\n",
       "      <td>120998.0035</td>\n",
       "      <td>dollar</td>\n",
       "      <td>18669.01</td>\n",
       "      <td>2017-05-06</td>\n",
       "      <td>15/01/2019</td>\n",
       "      <td>2017</td>\n",
       "    </tr>\n",
       "  </tbody>\n",
       "</table>\n",
       "</div>"
      ],
      "text/plain": [
       "    cust_id  acct_amount acct_cur  inv_amount account_opened last_transaction  \\\n",
       "0  8C35540A   44244.7100   dollar    35500.50     2018-03-05       30/09/2019   \n",
       "1  D5536652   86506.8500   dollar    81921.86            NaT       14/01/2019   \n",
       "2  A631984D   77799.3300   dollar    46412.27            NaT        6/10/2019   \n",
       "3  93F2F951  113589.0404   dollar    76563.35            NaT       10/07/2019   \n",
       "4  DE0A0882  120998.0035   dollar    18669.01     2017-05-06       15/01/2019   \n",
       "\n",
       "  acct_year  \n",
       "0      2018  \n",
       "1       NaN  \n",
       "2       NaN  \n",
       "3       NaN  \n",
       "4      2017  "
      ]
     },
     "execution_count": 63,
     "metadata": {},
     "output_type": "execute_result"
    }
   ],
   "source": [
    "banking.head()"
   ]
  },
  {
   "cell_type": "code",
   "execution_count": null,
   "metadata": {},
   "outputs": [],
   "source": [
    "# Store fund columns to sum against\n",
    "fund_columns = ['fund_A', 'fund_B', 'fund_C', 'fund_D']\n",
    "inv_equ = banking[fund_columns].sum(axis=1) == banking['inv_amount']\n",
    "# sum(axis=1) para sumar filas\n",
    "\n",
    "consistent_inv = banking[inv_equ]\n",
    "inconsistent_inv = banking[~inv_equ]\n",
    "print(\"Number of inconsistent investments: \", inconsistent_inv.shape[0])"
   ]
  },
  {
   "cell_type": "code",
   "execution_count": null,
   "metadata": {},
   "outputs": [],
   "source": [
    "today = dt.date.today()\n",
    "ages_manual = today.year - banking['birth_date'].dt.year\n",
    "\n",
    "# Find rows where age column == ages_manual\n",
    "age_equ = ages_manual == banking['age']\n",
    "\n",
    "# Store consistent and inconsistent data\n",
    "consistent_ages = banking[age_equ]\n",
    "inconsistent_ages = banking[~age_equ]\n",
    "\n",
    "# Store consistent and inconsistent data\n",
    "print(\"Number of inconsistent ages: \", inconsistent_ages.shape[0])"
   ]
  },
  {
   "cell_type": "code",
   "execution_count": null,
   "metadata": {},
   "outputs": [],
   "source": []
  },
  {
   "cell_type": "markdown",
   "metadata": {},
   "source": [
    "### Completeness"
   ]
  },
  {
   "cell_type": "markdown",
   "metadata": {},
   "source": [
    "**MISSING**\n",
    "\n",
    "**Completamente al azar || fallar al azar || fallar no al azar**\n",
    "\n",
    "- **Falta completamente al azar:** no existe una relación sistemática entre los valores perdidos de una columna y otros valores o valores propios.\n",
    "- **Missing at Random:** Existe una relación sistemática entre los valores perdidos de una columna y otros valores observados.\n",
    "- **Missing not at Random:** Existe una relación sistemática entre los valores perdidos de una columna y los valores no observados."
   ]
  },
  {
   "cell_type": "code",
   "execution_count": null,
   "metadata": {},
   "outputs": [],
   "source": [
    "# El paquete missingno permite \n",
    "# crear visualizaciones utiles para nuestros datos faltantes"
   ]
  },
  {
   "cell_type": "code",
   "execution_count": null,
   "metadata": {},
   "outputs": [],
   "source": [
    "# Matriz que muestra como se distribuyen los valores perdidos en una columna"
   ]
  },
  {
   "cell_type": "code",
   "execution_count": 68,
   "metadata": {},
   "outputs": [
    {
     "name": "stdout",
     "output_type": "stream",
     "text": [
      "cust_id             0\n",
      "acct_amount         0\n",
      "acct_cur            0\n",
      "inv_amount          0\n",
      "account_opened      8\n",
      "last_transaction    0\n",
      "acct_year           8\n",
      "dtype: int64\n"
     ]
    },
    {
     "data": {
      "image/png": "[encoded data removed]",
      "text/plain": [
       "<Figure size 1800x720 with 2 Axes>"
      ]
     },
     "metadata": {
      "needs_background": "light"
     },
     "output_type": "display_data"
    }
   ],
   "source": [
    "print(banking.isna().sum())\n",
    "\n",
    "# Visualize missingness matrix\n",
    "msno.matrix(banking)\n",
    "plt.show()"
   ]
  },
  {
   "cell_type": "code",
   "execution_count": 69,
   "metadata": {},
   "outputs": [],
   "source": [
    "# Isolate missing and non missing values of inv_amount\n",
    "missing_investors = banking[banking['inv_amount'].isna()]\n",
    "investors = banking[~banking['inv_amount'].isna()]"
   ]
  },
  {
   "cell_type": "code",
   "execution_count": 71,
   "metadata": {},
   "outputs": [
    {
     "data": {
      "text/html": [
       "<div>\n",
       "<style scoped>\n",
       "    .dataframe tbody tr th:only-of-type {\n",
       "        vertical-align: middle;\n",
       "    }\n",
       "\n",
       "    .dataframe tbody tr th {\n",
       "        vertical-align: top;\n",
       "    }\n",
       "\n",
       "    .dataframe thead th {\n",
       "        text-align: right;\n",
       "    }\n",
       "</style>\n",
       "<table border=\"1\" class=\"dataframe\">\n",
       "  <thead>\n",
       "    <tr style=\"text-align: right;\">\n",
       "      <th></th>\n",
       "      <th>cust_id</th>\n",
       "      <th>acct_amount</th>\n",
       "      <th>acct_cur</th>\n",
       "      <th>inv_amount</th>\n",
       "      <th>account_opened</th>\n",
       "      <th>last_transaction</th>\n",
       "      <th>acct_year</th>\n",
       "    </tr>\n",
       "  </thead>\n",
       "  <tbody>\n",
       "    <tr>\n",
       "      <th>0</th>\n",
       "      <td>8C35540A</td>\n",
       "      <td>44244.71</td>\n",
       "      <td>dollar</td>\n",
       "      <td>35500.50</td>\n",
       "      <td>2018-03-05</td>\n",
       "      <td>30/09/2019</td>\n",
       "      <td>2018</td>\n",
       "    </tr>\n",
       "    <tr>\n",
       "      <th>1</th>\n",
       "      <td>D5536652</td>\n",
       "      <td>86506.85</td>\n",
       "      <td>dollar</td>\n",
       "      <td>81921.86</td>\n",
       "      <td>NaT</td>\n",
       "      <td>14/01/2019</td>\n",
       "      <td>NaN</td>\n",
       "    </tr>\n",
       "    <tr>\n",
       "      <th>2</th>\n",
       "      <td>A631984D</td>\n",
       "      <td>77799.33</td>\n",
       "      <td>dollar</td>\n",
       "      <td>46412.27</td>\n",
       "      <td>NaT</td>\n",
       "      <td>6/10/2019</td>\n",
       "      <td>NaN</td>\n",
       "    </tr>\n",
       "  </tbody>\n",
       "</table>\n",
       "</div>"
      ],
      "text/plain": [
       "    cust_id  acct_amount acct_cur  inv_amount account_opened last_transaction  \\\n",
       "0  8C35540A     44244.71   dollar    35500.50     2018-03-05       30/09/2019   \n",
       "1  D5536652     86506.85   dollar    81921.86            NaT       14/01/2019   \n",
       "2  A631984D     77799.33   dollar    46412.27            NaT        6/10/2019   \n",
       "\n",
       "  acct_year  \n",
       "0      2018  \n",
       "1       NaN  \n",
       "2       NaN  "
      ]
     },
     "execution_count": 71,
     "metadata": {},
     "output_type": "execute_result"
    }
   ],
   "source": [
    "banking.head(3)"
   ]
  },
  {
   "cell_type": "code",
   "execution_count": 72,
   "metadata": {},
   "outputs": [
    {
     "data": {
      "image/png": "[encoded data removed]",
      "text/plain": [
       "<Figure size 1800x720 with 2 Axes>"
      ]
     },
     "metadata": {
      "needs_background": "light"
     },
     "output_type": "display_data"
    }
   ],
   "source": [
    "banking_sorted = banking.sort_values(by ='inv_amount')\n",
    "msno.matrix(banking_sorted)\n",
    "plt.show()"
   ]
  },
  {
   "cell_type": "code",
   "execution_count": 73,
   "metadata": {},
   "outputs": [
    {
     "name": "stdout",
     "output_type": "stream",
     "text": [
      "cust_id             0\n",
      "acct_amount         0\n",
      "acct_cur            0\n",
      "inv_amount          0\n",
      "account_opened      8\n",
      "last_transaction    0\n",
      "acct_year           8\n",
      "dtype: int64\n"
     ]
    }
   ],
   "source": [
    "banking_fullid = banking.dropna(subset = ['cust_id'])\n",
    "acct_imp = banking_fullid['inv_amount']* 5 \n",
    "banking_imputed = banking_fullid.fillna({'acct_amount':acct_imp})\n",
    "print(banking_imputed.isna().sum())"
   ]
  },
  {
   "cell_type": "markdown",
   "metadata": {},
   "source": [
    "## 4. Record linkage"
   ]
  },
  {
   "cell_type": "markdown",
   "metadata": {},
   "source": [
    "### Comparing strings"
   ]
  },
  {
   "cell_type": "code",
   "execution_count": 22,
   "metadata": {},
   "outputs": [],
   "source": [
    "# conda install -c conda-forge fuzzywuzzy"
   ]
  },
  {
   "cell_type": "code",
   "execution_count": 11,
   "metadata": {},
   "outputs": [],
   "source": [
    "from fuzzywuzzy import fuzz"
   ]
  },
  {
   "cell_type": "code",
   "execution_count": 13,
   "metadata": {},
   "outputs": [
    {
     "data": {
      "text/plain": [
       "86"
      ]
     },
     "execution_count": 13,
     "metadata": {},
     "output_type": "execute_result"
    }
   ],
   "source": [
    "fuzz.WRatio('Reeding','Reading')\n",
    "# 0 -100 => 0 nada parecido | 1 muy parecido igual"
   ]
  },
  {
   "cell_type": "code",
   "execution_count": 14,
   "metadata": {},
   "outputs": [
    {
     "data": {
      "text/plain": [
       "90"
      ]
     },
     "execution_count": 14,
     "metadata": {},
     "output_type": "execute_result"
    }
   ],
   "source": [
    "fuzz.WRatio('Houston Rockets','Rockets')"
   ]
  },
  {
   "cell_type": "code",
   "execution_count": 15,
   "metadata": {},
   "outputs": [],
   "source": [
    "from fuzzywuzzy import process"
   ]
  },
  {
   "cell_type": "code",
   "execution_count": 19,
   "metadata": {},
   "outputs": [
    {
     "data": {
      "text/plain": [
       "[('Rockets vs Lakers', 86, 0),\n",
       " ('Lakers vs Rockets', 86, 1),\n",
       " ('Houson vs Los Angeles', 86, 2),\n",
       " ('Heat vs Bulls', 86, 3)]"
      ]
     },
     "execution_count": 19,
     "metadata": {},
     "output_type": "execute_result"
    }
   ],
   "source": [
    "# Define string and array of possible matches\n",
    "string = \"Houston Rockets vs Los Angeles Lakers\"\n",
    "choices = pd.Series(['Rockets vs Lakers','Lakers vs Rockets','Houson vs Los Angeles','Heat vs Bulls'])\n",
    "process.extract(string, choices, limit = 4)\n",
    "#(coincidencia más cercana, puntuación de similitud, índice de coincidencia)"
   ]
  },
  {
   "cell_type": "code",
   "execution_count": 24,
   "metadata": {},
   "outputs": [
    {
     "data": {
      "text/html": [
       "<div>\n",
       "<style scoped>\n",
       "    .dataframe tbody tr th:only-of-type {\n",
       "        vertical-align: middle;\n",
       "    }\n",
       "\n",
       "    .dataframe tbody tr th {\n",
       "        vertical-align: top;\n",
       "    }\n",
       "\n",
       "    .dataframe thead th {\n",
       "        text-align: right;\n",
       "    }\n",
       "</style>\n",
       "<table border=\"1\" class=\"dataframe\">\n",
       "  <thead>\n",
       "    <tr style=\"text-align: right;\">\n",
       "      <th></th>\n",
       "      <th>name</th>\n",
       "      <th>addr</th>\n",
       "      <th>city</th>\n",
       "      <th>phone</th>\n",
       "      <th>type</th>\n",
       "    </tr>\n",
       "  </thead>\n",
       "  <tbody>\n",
       "    <tr>\n",
       "      <th>0</th>\n",
       "      <td>kokomo</td>\n",
       "      <td>6333 w. third st.</td>\n",
       "      <td>la</td>\n",
       "      <td>2139330773</td>\n",
       "      <td>american</td>\n",
       "    </tr>\n",
       "    <tr>\n",
       "      <th>1</th>\n",
       "      <td>feenix</td>\n",
       "      <td>8358 sunset blvd. west</td>\n",
       "      <td>hollywood</td>\n",
       "      <td>2138486677</td>\n",
       "      <td>american</td>\n",
       "    </tr>\n",
       "    <tr>\n",
       "      <th>2</th>\n",
       "      <td>parkway</td>\n",
       "      <td>510 s. arroyo pkwy .</td>\n",
       "      <td>pasadena</td>\n",
       "      <td>8187951001</td>\n",
       "      <td>californian</td>\n",
       "    </tr>\n",
       "    <tr>\n",
       "      <th>3</th>\n",
       "      <td>r-23</td>\n",
       "      <td>923 e. third st.</td>\n",
       "      <td>los angeles</td>\n",
       "      <td>2136877178</td>\n",
       "      <td>japanese</td>\n",
       "    </tr>\n",
       "    <tr>\n",
       "      <th>4</th>\n",
       "      <td>gumbo</td>\n",
       "      <td>6333 w. third st.</td>\n",
       "      <td>la</td>\n",
       "      <td>2139330358</td>\n",
       "      <td>cajun/creole</td>\n",
       "    </tr>\n",
       "  </tbody>\n",
       "</table>\n",
       "</div>"
      ],
      "text/plain": [
       "      name                      addr         city       phone          type\n",
       "0   kokomo         6333 w. third st.           la  2139330773      american\n",
       "1   feenix   8358 sunset blvd. west     hollywood  2138486677      american\n",
       "2  parkway      510 s. arroyo pkwy .     pasadena  8187951001   californian\n",
       "3     r-23          923 e. third st.  los angeles  2136877178      japanese\n",
       "4    gumbo         6333 w. third st.           la  2139330358  cajun/creole"
      ]
     },
     "execution_count": 24,
     "metadata": {},
     "output_type": "execute_result"
    }
   ],
   "source": [
    "restaurants.head()"
   ]
  },
  {
   "cell_type": "code",
   "execution_count": 26,
   "metadata": {},
   "outputs": [
    {
     "name": "stdout",
     "output_type": "stream",
     "text": [
      "[('italian', 100), ('asian', 67), ('californian', 56), ('continental', 51), ('indonesian', 47), ('russian', 43), ('mexican', 43), ('american', 40), ('japanese', 40), ('mexican/tex-mex', 39), ('american ( new )', 39), ('pacific new wave', 39), ('vietnamese', 35), ('delis', 33), ('pizza', 33), ('diners', 31), ('middle eastern', 30), ('chicken', 29), ('chinese', 29), ('health food', 27), ('southern/soul', 27), ('cajun/creole', 26), ('steakhouses', 26), ('seafood', 14), ('hot dogs', 13), ('noodle shops', 13), ('eclectic', 13), ('french ( new )', 13), ('desserts', 13), ('hamburgers', 12), ('fast food', 12), ('coffeebar', 12), ('coffee shops', 0)]\n"
     ]
    }
   ],
   "source": [
    "unique_types = restaurants['type'].unique()\n",
    "# print(process.extract('asian', unique_types, limit = len(unique_types)))\n",
    "# print(process.extract('american', unique_types, limit = len(unique_types)))\n",
    "# print(process.extract('italian', unique_types, limit = len(unique_types)))"
   ]
  },
  {
   "cell_type": "code",
   "execution_count": 27,
   "metadata": {},
   "outputs": [
    {
     "name": "stdout",
     "output_type": "stream",
     "text": [
      "[('italian', 100, 14), ('italian', 100, 21), ('italian', 100, 47), ('italian', 100, 57), ('italian', 100, 73)]\n"
     ]
    }
   ],
   "source": [
    "matches = process.extract('italian', restaurants['type'], limit = len(restaurants['type']))\n",
    "\n",
    "# Inspect the first 5 matches\n",
    "print(matches[0:5])"
   ]
  },
  {
   "cell_type": "code",
   "execution_count": 35,
   "metadata": {},
   "outputs": [],
   "source": [
    "matches = process.extract('italian', restaurants['type'], limit=len(restaurants.type))\n",
    "\n",
    "for match in matches:\n",
    "    if match[1] >= 80:\n",
    "        restaurants.loc[restaurants['type'] == match[0],'type' ] = 'italian'"
   ]
  },
  {
   "cell_type": "code",
   "execution_count": 36,
   "metadata": {},
   "outputs": [
    {
     "data": {
      "text/plain": [
       "['italian', 'asian', 'american']"
      ]
     },
     "execution_count": 36,
     "metadata": {},
     "output_type": "execute_result"
    }
   ],
   "source": [
    "categoriesRestaurant = ['italian', 'asian', 'american']\n",
    "categoriesRestaurant"
   ]
  },
  {
   "cell_type": "code",
   "execution_count": 38,
   "metadata": {},
   "outputs": [
    {
     "name": "stdout",
     "output_type": "stream",
     "text": [
      "['american' 'californian' 'japanese' 'cajun/creole' 'hot dogs' 'diners'\n",
      " 'delis' 'hamburgers' 'seafood' 'italian' 'coffee shops' 'russian'\n",
      " 'steakhouses' 'mexican/tex-mex' 'noodle shops' 'middle eastern' 'asian'\n",
      " 'vietnamese' 'health food' 'pacific new wave' 'indonesian' 'eclectic'\n",
      " 'chicken' 'fast food' 'southern/soul' 'coffeebar' 'continental'\n",
      " 'french ( new )' 'desserts' 'chinese' 'pizza']\n"
     ]
    }
   ],
   "source": [
    "for cuisine in categoriesRestaurant:  \n",
    "    matches = process.extract(cuisine, restaurants['type'], limit=len(restaurants.type))\n",
    "    for match in matches:\n",
    "        if match[1] >= 80:\n",
    "            restaurants.loc[restaurants['type'] == match[0]] = cuisine\n",
    "print(restaurants['type'].unique())"
   ]
  },
  {
   "cell_type": "code",
   "execution_count": null,
   "metadata": {},
   "outputs": [],
   "source": []
  },
  {
   "cell_type": "markdown",
   "metadata": {},
   "source": [
    "### Generating pairs"
   ]
  },
  {
   "cell_type": "code",
   "execution_count": 44,
   "metadata": {},
   "outputs": [],
   "source": [
    "# conda install -c conda-forge recordlinkage"
   ]
  },
  {
   "cell_type": "code",
   "execution_count": 41,
   "metadata": {},
   "outputs": [],
   "source": [
    "import recordlinkage"
   ]
  },
  {
   "cell_type": "code",
   "execution_count": 65,
   "metadata": {},
   "outputs": [],
   "source": [
    "indexer = recordlinkage.Index() # Creando un objeto de indexación"
   ]
  },
  {
   "cell_type": "code",
   "execution_count": 66,
   "metadata": {},
   "outputs": [],
   "source": [
    "indexer.block('phone') # Bloquear la indexacion a la columna \"x\"\n",
    "pairs = indexer.index(restaurants, restaurants_new)\n",
    "# Generar pares con los 2 dataframes"
   ]
  },
  {
   "cell_type": "code",
   "execution_count": 67,
   "metadata": {},
   "outputs": [],
   "source": [
    "# Compare entre columnas, califique la comparación \n",
    "# y luego vincule los DataFrames."
   ]
  },
  {
   "cell_type": "code",
   "execution_count": 68,
   "metadata": {},
   "outputs": [],
   "source": [
    "# instancia de un objeto de comparación\n",
    "comp_cl = recordlinkage.Compare()"
   ]
  },
  {
   "cell_type": "code",
   "execution_count": 69,
   "metadata": {},
   "outputs": [
    {
     "data": {
      "text/plain": [
       "<Compare>"
      ]
     },
     "execution_count": 69,
     "metadata": {},
     "output_type": "execute_result"
    }
   ],
   "source": [
    "# encontrar coincidencias exactas\n",
    "comp_cl.exact('city', 'city', label='city')\n",
    "comp_cl.exact('cuisine_type', 'cuisine_type', label='cuisine_type')\n",
    "\n",
    "# encontrar cadenas similares con un umbral de similitud de 0.8\n",
    "comp_cl.string('rest_name', 'rest_name', label='name', threshold = 0.8) "
   ]
  },
  {
   "cell_type": "code",
   "execution_count": 71,
   "metadata": {},
   "outputs": [],
   "source": [
    "# Calcule la comparación de los pares\n",
    "potential_matches = comp_cl.compute(pairs, restaurants, restaurants_new)\n",
    "print(potential_matches)"
   ]
  },
  {
   "cell_type": "markdown",
   "metadata": {},
   "source": [
    "### Linking DataFrames"
   ]
  },
  {
   "cell_type": "code",
   "execution_count": null,
   "metadata": {},
   "outputs": [],
   "source": [
    "# Vincular los dataframes censales\n",
    "# Valor 1 coincidencia | 0 caso contrario"
   ]
  },
  {
   "cell_type": "code",
   "execution_count": null,
   "metadata": {},
   "outputs": [],
   "source": [
    "# Aísle las instancias de posibles coincidencias en las que la suma de filas \n",
    "# sea superior o igual a 3\n",
    "matches = potential_matches[potential_matches.sum(axis = 1) >= 3]"
   ]
  },
  {
   "cell_type": "code",
   "execution_count": null,
   "metadata": {},
   "outputs": [],
   "source": [
    "matching_indices = matches.index.get_level_values(1)\n",
    "\n",
    "#  nuevosvalores basados en no duplicados \n",
    "non_dup = restaurants_new[~restaurants_new.index.isin(matching_indices)]\n",
    "full_restaurants = restaurants.append(non_dup)\n",
    "print(full_restaurants)"
   ]
  },
  {
   "cell_type": "code",
   "execution_count": null,
   "metadata": {},
   "outputs": [],
   "source": []
  },
  {
   "cell_type": "code",
   "execution_count": null,
   "metadata": {},
   "outputs": [],
   "source": []
  },
  {
   "cell_type": "code",
   "execution_count": null,
   "metadata": {},
   "outputs": [],
   "source": []
  },
  {
   "cell_type": "code",
   "execution_count": null,
   "metadata": {},
   "outputs": [],
   "source": []
  }
 ],
 "metadata": {
  "kernelspec": {
   "display_name": "Python 3",
   "language": "python",
   "name": "python3"
  },
  "language_info": {
   "codemirror_mode": {
    "name": "ipython",
    "version": 3
   },
   "file_extension": ".py",
   "mimetype": "text/x-python",
   "name": "python",
   "nbconvert_exporter": "python",
   "pygments_lexer": "ipython3",
   "version": "3.8.5"
  }
 },
 "nbformat": 4,
 "nbformat_minor": 4
}
